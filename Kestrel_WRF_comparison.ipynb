{
 "cells": [
  {
   "cell_type": "code",
   "execution_count": 1,
   "id": "bc2fd78b-287a-4499-a59d-8db2e34f990f",
   "metadata": {},
   "outputs": [
    {
     "name": "stderr",
     "output_type": "stream",
     "text": [
      "/home/lmar/.local/lib/python3.9/site-packages/pandas/core/computation/expressions.py:21: UserWarning: Pandas requires version '2.8.4' or newer of 'numexpr' (version '2.8.3' currently installed).\n",
      "  from pandas.core.computation.check import NUMEXPR_INSTALLED\n",
      "/home/lmar/.local/lib/python3.9/site-packages/pandas/core/arrays/masked.py:60: UserWarning: Pandas requires version '1.3.6' or newer of 'bottleneck' (version '1.3.5' currently installed).\n",
      "  from pandas.core import (\n",
      "/tmp/ipykernel_5481/2430711590.py:2: DeprecationWarning: \n",
      "Pyarrow will become a required dependency of pandas in the next major release of pandas (pandas 3.0),\n",
      "(to allow more performant data types, such as the Arrow string type, and better interoperability with other libraries)\n",
      "but was not found to be installed on your system.\n",
      "If this would cause problems for you,\n",
      "please provide us feedback at https://github.com/pandas-dev/pandas/issues/54466\n",
      "        \n",
      "  import pandas as pd\n"
     ]
    }
   ],
   "source": [
    "import datetime as dt\n",
    "import pandas as pd\n",
    "import numpy as np\n",
    "import glob\n",
    "from netCDF4 import Dataset\n",
    "import os"
   ]
  },
  {
   "cell_type": "code",
   "execution_count": 2,
   "id": "0a2b3a83-0db8-4de3-bc14-e3925506411d",
   "metadata": {},
   "outputs": [],
   "source": [
    "import sys\n",
    "sys.path.append('..')\n",
    "from MultiLineSubPlotter import MultiLineSubplotter, VerticalPlotter, HorizontalPlotter\n",
    "from Interpolator import Interpolator"
   ]
  },
  {
   "cell_type": "markdown",
   "id": "4fb84ceb-b856-4222-8448-d267f8fb63d3",
   "metadata": {},
   "source": [
    "### Importing the observation data\n",
    "\n",
    "Our goal here is to get the kestrel `.csv` file into a pandas dataframe, with the correct formatting.\n",
    "\n",
    "Below, we first read the file into a dataframe, indicating that the header is on lines 8 and 9 of the file and that the column values are separated by a comma. "
   ]
  },
  {
   "cell_type": "code",
   "execution_count": 3,
   "id": "5cd0895b-14d2-4431-9424-d16eb548c5f4",
   "metadata": {},
   "outputs": [],
   "source": [
    "path = '/data/shared_data/observations/kestrel/WEATHER - 2434489_2023-10-11 08_50_00.csv'\n",
    "\n",
    "kes_data = pd.read_csv(path, delimiter=',', header=[8,9])"
   ]
  },
  {
   "cell_type": "markdown",
   "id": "9bd18c8f-27b6-40e8-9050-078fbf54ca61",
   "metadata": {},
   "source": [
    "Next, we take each time value, which is initially a string, and convert it to a date time object. This will enable us to plot more powerfully and have more control over the data.\n",
    "\n",
    "This is how the first ten times look prior to conversion:"
   ]
  },
  {
   "cell_type": "code",
   "execution_count": 4,
   "id": "3973ddc6-38ab-4963-873d-b87a2f467ebc",
   "metadata": {},
   "outputs": [
    {
     "data": {
      "text/plain": [
       "['2023-10-09 12:44:00',\n",
       " '2023-10-09 12:45:00',\n",
       " '2023-10-09 12:46:00',\n",
       " '2023-10-09 12:47:00',\n",
       " '2023-10-09 12:48:00',\n",
       " '2023-10-09 12:49:00',\n",
       " '2023-10-09 12:50:00',\n",
       " '2023-10-09 12:51:00',\n",
       " '2023-10-09 12:52:00',\n",
       " '2023-10-09 12:53:00']"
      ]
     },
     "execution_count": 4,
     "metadata": {},
     "output_type": "execute_result"
    }
   ],
   "source": [
    "kes_data['Time'].to_numpy().flatten().tolist()[:10]"
   ]
  },
  {
   "cell_type": "markdown",
   "id": "d1cac95f-665b-41a4-9598-c803f6fc4695",
   "metadata": {},
   "source": [
    "Note how we have used `kes_data['Time'].to_numpy().flatten().tolist()`. What is happening here?"
   ]
  },
  {
   "cell_type": "markdown",
   "id": "35b6bc43-025b-45eb-b777-2171ce9cb8a6",
   "metadata": {},
   "source": [
    "The cell below uses a python list comprehension , but written out as a for loop it would look like:\n",
    "```\n",
    "converted_times = []\n",
    "\n",
    "for d in  kes_data['Time'].to_numpy().flatten().tolist():\n",
    "    converted_time = dt.datetime.strptime(d, '%Y-%m-%d %H:%M:%S')\n",
    "    converted_times.append(converted_time)\n",
    "  \n",
    "kestrel_data['Time'] = converted_times\n",
    "```"
   ]
  },
  {
   "cell_type": "code",
   "execution_count": 5,
   "id": "fd3351a3-af82-4b28-9a79-c9367fd9b535",
   "metadata": {},
   "outputs": [],
   "source": [
    "kes_data['Time'] = [dt.datetime.strptime(d, '%Y-%m-%d %H:%M:%S') for d in kes_data['Time'].to_numpy().flatten().tolist()]"
   ]
  },
  {
   "cell_type": "markdown",
   "id": "e03e3d43-59a0-4513-a88c-8ec2ba79437d",
   "metadata": {},
   "source": [
    "Let's look at our formatted data."
   ]
  },
  {
   "cell_type": "code",
   "execution_count": 6,
   "id": "629616f4-5e69-425c-a73d-7b29b0103085",
   "metadata": {},
   "outputs": [
    {
     "data": {
      "text/html": [
       "<div>\n",
       "<style scoped>\n",
       "    .dataframe tbody tr th:only-of-type {\n",
       "        vertical-align: middle;\n",
       "    }\n",
       "\n",
       "    .dataframe tbody tr th {\n",
       "        vertical-align: top;\n",
       "    }\n",
       "\n",
       "    .dataframe thead tr th {\n",
       "        text-align: left;\n",
       "    }\n",
       "</style>\n",
       "<table border=\"1\" class=\"dataframe\">\n",
       "  <thead>\n",
       "    <tr>\n",
       "      <th></th>\n",
       "      <th>Time</th>\n",
       "      <th>Temp</th>\n",
       "      <th>Wet Bulb Temp.</th>\n",
       "      <th>Rel. Hum.</th>\n",
       "      <th>Baro.</th>\n",
       "      <th>Altitude</th>\n",
       "      <th>Station P.</th>\n",
       "      <th>Wind Speed</th>\n",
       "      <th>Heat Index</th>\n",
       "      <th>Dew Point</th>\n",
       "      <th>Dens. Alt.</th>\n",
       "      <th>Crosswind</th>\n",
       "      <th>Headwind</th>\n",
       "      <th>Mag. Dir.</th>\n",
       "      <th>True Dir.</th>\n",
       "      <th>Wind Chill</th>\n",
       "    </tr>\n",
       "    <tr>\n",
       "      <th></th>\n",
       "      <th>yyyy-MM-dd hh:mm:ss</th>\n",
       "      <th>Celsius</th>\n",
       "      <th>Celsius</th>\n",
       "      <th>%</th>\n",
       "      <th>mb</th>\n",
       "      <th>Meters</th>\n",
       "      <th>mb</th>\n",
       "      <th>m/s</th>\n",
       "      <th>Celsius</th>\n",
       "      <th>Celsius</th>\n",
       "      <th>Meters</th>\n",
       "      <th>m/s</th>\n",
       "      <th>m/s</th>\n",
       "      <th>Degrees</th>\n",
       "      <th>Degrees</th>\n",
       "      <th>Celsius</th>\n",
       "    </tr>\n",
       "  </thead>\n",
       "  <tbody>\n",
       "    <tr>\n",
       "      <th>0</th>\n",
       "      <td>2023-10-09 12:44:00</td>\n",
       "      <td>22.4</td>\n",
       "      <td>18.0</td>\n",
       "      <td>66.0</td>\n",
       "      <td>1012.4</td>\n",
       "      <td>6</td>\n",
       "      <td>1012.4</td>\n",
       "      <td>0.4</td>\n",
       "      <td>22.5</td>\n",
       "      <td>15.7</td>\n",
       "      <td>341</td>\n",
       "      <td>***</td>\n",
       "      <td>***</td>\n",
       "      <td>***</td>\n",
       "      <td>***</td>\n",
       "      <td>22.3</td>\n",
       "    </tr>\n",
       "    <tr>\n",
       "      <th>1</th>\n",
       "      <td>2023-10-09 12:45:00</td>\n",
       "      <td>22.3</td>\n",
       "      <td>18.1</td>\n",
       "      <td>66.6</td>\n",
       "      <td>1012.7</td>\n",
       "      <td>2</td>\n",
       "      <td>1012.8</td>\n",
       "      <td>0.3</td>\n",
       "      <td>22.5</td>\n",
       "      <td>15.8</td>\n",
       "      <td>334</td>\n",
       "      <td>***</td>\n",
       "      <td>***</td>\n",
       "      <td>***</td>\n",
       "      <td>***</td>\n",
       "      <td>22.2</td>\n",
       "    </tr>\n",
       "    <tr>\n",
       "      <th>2</th>\n",
       "      <td>2023-10-09 12:46:00</td>\n",
       "      <td>22.9</td>\n",
       "      <td>18.4</td>\n",
       "      <td>65.4</td>\n",
       "      <td>1012.7</td>\n",
       "      <td>2</td>\n",
       "      <td>1012.8</td>\n",
       "      <td>0.7</td>\n",
       "      <td>23.0</td>\n",
       "      <td>16.0</td>\n",
       "      <td>355</td>\n",
       "      <td>***</td>\n",
       "      <td>***</td>\n",
       "      <td>***</td>\n",
       "      <td>***</td>\n",
       "      <td>22.8</td>\n",
       "    </tr>\n",
       "    <tr>\n",
       "      <th>3</th>\n",
       "      <td>2023-10-09 12:47:00</td>\n",
       "      <td>22.0</td>\n",
       "      <td>17.9</td>\n",
       "      <td>67.3</td>\n",
       "      <td>1012.7</td>\n",
       "      <td>4</td>\n",
       "      <td>1012.6</td>\n",
       "      <td>1.1</td>\n",
       "      <td>22.3</td>\n",
       "      <td>15.7</td>\n",
       "      <td>326</td>\n",
       "      <td>***</td>\n",
       "      <td>***</td>\n",
       "      <td>***</td>\n",
       "      <td>***</td>\n",
       "      <td>22.0</td>\n",
       "    </tr>\n",
       "    <tr>\n",
       "      <th>4</th>\n",
       "      <td>2023-10-09 12:48:00</td>\n",
       "      <td>22.2</td>\n",
       "      <td>18.1</td>\n",
       "      <td>67.0</td>\n",
       "      <td>1012.7</td>\n",
       "      <td>4</td>\n",
       "      <td>1012.7</td>\n",
       "      <td>0.5</td>\n",
       "      <td>22.5</td>\n",
       "      <td>15.8</td>\n",
       "      <td>333</td>\n",
       "      <td>***</td>\n",
       "      <td>***</td>\n",
       "      <td>***</td>\n",
       "      <td>***</td>\n",
       "      <td>22.2</td>\n",
       "    </tr>\n",
       "    <tr>\n",
       "      <th>...</th>\n",
       "      <td>...</td>\n",
       "      <td>...</td>\n",
       "      <td>...</td>\n",
       "      <td>...</td>\n",
       "      <td>...</td>\n",
       "      <td>...</td>\n",
       "      <td>...</td>\n",
       "      <td>...</td>\n",
       "      <td>...</td>\n",
       "      <td>...</td>\n",
       "      <td>...</td>\n",
       "      <td>...</td>\n",
       "      <td>...</td>\n",
       "      <td>...</td>\n",
       "      <td>...</td>\n",
       "      <td>...</td>\n",
       "    </tr>\n",
       "    <tr>\n",
       "      <th>2642</th>\n",
       "      <td>2023-10-11 08:46:00</td>\n",
       "      <td>22.4</td>\n",
       "      <td>16.7</td>\n",
       "      <td>56.5</td>\n",
       "      <td>1000.7</td>\n",
       "      <td>102</td>\n",
       "      <td>1000.8</td>\n",
       "      <td>0.0</td>\n",
       "      <td>22.1</td>\n",
       "      <td>13.3</td>\n",
       "      <td>452</td>\n",
       "      <td>0.0</td>\n",
       "      <td>0.0</td>\n",
       "      <td>10</td>\n",
       "      <td>10</td>\n",
       "      <td>22.3</td>\n",
       "    </tr>\n",
       "    <tr>\n",
       "      <th>2643</th>\n",
       "      <td>2023-10-11 08:47:00</td>\n",
       "      <td>22.4</td>\n",
       "      <td>16.7</td>\n",
       "      <td>56.5</td>\n",
       "      <td>1000.7</td>\n",
       "      <td>102</td>\n",
       "      <td>1000.8</td>\n",
       "      <td>0.0</td>\n",
       "      <td>22.2</td>\n",
       "      <td>13.3</td>\n",
       "      <td>451</td>\n",
       "      <td>0.0</td>\n",
       "      <td>0.0</td>\n",
       "      <td>10</td>\n",
       "      <td>10</td>\n",
       "      <td>22.4</td>\n",
       "    </tr>\n",
       "    <tr>\n",
       "      <th>2644</th>\n",
       "      <td>2023-10-11 08:48:00</td>\n",
       "      <td>22.4</td>\n",
       "      <td>16.7</td>\n",
       "      <td>56.2</td>\n",
       "      <td>1000.9</td>\n",
       "      <td>102</td>\n",
       "      <td>1000.9</td>\n",
       "      <td>0.0</td>\n",
       "      <td>22.2</td>\n",
       "      <td>13.3</td>\n",
       "      <td>450</td>\n",
       "      <td>0.0</td>\n",
       "      <td>0.0</td>\n",
       "      <td>10</td>\n",
       "      <td>11</td>\n",
       "      <td>22.4</td>\n",
       "    </tr>\n",
       "    <tr>\n",
       "      <th>2645</th>\n",
       "      <td>2023-10-11 08:49:00</td>\n",
       "      <td>22.5</td>\n",
       "      <td>16.7</td>\n",
       "      <td>56.4</td>\n",
       "      <td>1000.9</td>\n",
       "      <td>101</td>\n",
       "      <td>1000.9</td>\n",
       "      <td>0.0</td>\n",
       "      <td>22.2</td>\n",
       "      <td>13.4</td>\n",
       "      <td>453</td>\n",
       "      <td>0.0</td>\n",
       "      <td>0.0</td>\n",
       "      <td>60</td>\n",
       "      <td>61</td>\n",
       "      <td>22.4</td>\n",
       "    </tr>\n",
       "    <tr>\n",
       "      <th>2646</th>\n",
       "      <td>2023-10-11 08:50:00</td>\n",
       "      <td>22.6</td>\n",
       "      <td>16.7</td>\n",
       "      <td>55.8</td>\n",
       "      <td>1001.0</td>\n",
       "      <td>100</td>\n",
       "      <td>1001.0</td>\n",
       "      <td>0.0</td>\n",
       "      <td>22.3</td>\n",
       "      <td>13.3</td>\n",
       "      <td>455</td>\n",
       "      <td>0.0</td>\n",
       "      <td>0.0</td>\n",
       "      <td>14</td>\n",
       "      <td>15</td>\n",
       "      <td>22.5</td>\n",
       "    </tr>\n",
       "  </tbody>\n",
       "</table>\n",
       "<p>2647 rows × 16 columns</p>\n",
       "</div>"
      ],
      "text/plain": [
       "                    Time    Temp Wet Bulb Temp. Rel. Hum.   Baro. Altitude  \\\n",
       "     yyyy-MM-dd hh:mm:ss Celsius        Celsius         %      mb   Meters   \n",
       "0    2023-10-09 12:44:00    22.4           18.0      66.0  1012.4        6   \n",
       "1    2023-10-09 12:45:00    22.3           18.1      66.6  1012.7        2   \n",
       "2    2023-10-09 12:46:00    22.9           18.4      65.4  1012.7        2   \n",
       "3    2023-10-09 12:47:00    22.0           17.9      67.3  1012.7        4   \n",
       "4    2023-10-09 12:48:00    22.2           18.1      67.0  1012.7        4   \n",
       "...                  ...     ...            ...       ...     ...      ...   \n",
       "2642 2023-10-11 08:46:00    22.4           16.7      56.5  1000.7      102   \n",
       "2643 2023-10-11 08:47:00    22.4           16.7      56.5  1000.7      102   \n",
       "2644 2023-10-11 08:48:00    22.4           16.7      56.2  1000.9      102   \n",
       "2645 2023-10-11 08:49:00    22.5           16.7      56.4  1000.9      101   \n",
       "2646 2023-10-11 08:50:00    22.6           16.7      55.8  1001.0      100   \n",
       "\n",
       "     Station P. Wind Speed Heat Index Dew Point Dens. Alt. Crosswind Headwind  \\\n",
       "             mb        m/s    Celsius   Celsius     Meters       m/s      m/s   \n",
       "0        1012.4        0.4       22.5      15.7        341       ***      ***   \n",
       "1        1012.8        0.3       22.5      15.8        334       ***      ***   \n",
       "2        1012.8        0.7       23.0      16.0        355       ***      ***   \n",
       "3        1012.6        1.1       22.3      15.7        326       ***      ***   \n",
       "4        1012.7        0.5       22.5      15.8        333       ***      ***   \n",
       "...         ...        ...        ...       ...        ...       ...      ...   \n",
       "2642     1000.8        0.0       22.1      13.3        452       0.0      0.0   \n",
       "2643     1000.8        0.0       22.2      13.3        451       0.0      0.0   \n",
       "2644     1000.9        0.0       22.2      13.3        450       0.0      0.0   \n",
       "2645     1000.9        0.0       22.2      13.4        453       0.0      0.0   \n",
       "2646     1001.0        0.0       22.3      13.3        455       0.0      0.0   \n",
       "\n",
       "     Mag. Dir. True Dir. Wind Chill  \n",
       "       Degrees   Degrees    Celsius  \n",
       "0          ***       ***       22.3  \n",
       "1          ***       ***       22.2  \n",
       "2          ***       ***       22.8  \n",
       "3          ***       ***       22.0  \n",
       "4          ***       ***       22.2  \n",
       "...        ...       ...        ...  \n",
       "2642        10        10       22.3  \n",
       "2643        10        10       22.4  \n",
       "2644        10        11       22.4  \n",
       "2645        60        61       22.4  \n",
       "2646        14        15       22.5  \n",
       "\n",
       "[2647 rows x 16 columns]"
      ]
     },
     "execution_count": 6,
     "metadata": {},
     "output_type": "execute_result"
    }
   ],
   "source": [
    "kes_data"
   ]
  },
  {
   "cell_type": "markdown",
   "id": "2781ba71-515d-4452-8fa3-716eea9f9451",
   "metadata": {},
   "source": [
    "### Functions for subsetting WRF file list"
   ]
  },
  {
   "cell_type": "markdown",
   "id": "02e8ebcb-efe8-4383-a72e-2327873f1680",
   "metadata": {},
   "source": [
    "The function `wrfout_time` takes a wrfout file name (as a string) and converts the date and time contained within in to a datetime object."
   ]
  },
  {
   "cell_type": "code",
   "execution_count": 7,
   "id": "53a61580-0679-4c99-b1ab-5435c4a8d866",
   "metadata": {},
   "outputs": [],
   "source": [
    "def wrfout_time(filename):\n",
    "    \"\"\"\n",
    "    Returns a date time object based on wrf file name\n",
    "    \"\"\"\n",
    "    time = dt.datetime.strptime(filename.split('_',2)[2], '%Y-%m-%d_%H:%M:%S')\n",
    "    return time"
   ]
  },
  {
   "cell_type": "markdown",
   "id": "15abf859-cff3-43eb-b3d2-80a7f93081e5",
   "metadata": {},
   "source": [
    "For example:"
   ]
  },
  {
   "cell_type": "code",
   "execution_count": 8,
   "id": "936fe17c-2f86-46ce-accd-e05eba960827",
   "metadata": {},
   "outputs": [
    {
     "data": {
      "text/plain": [
       "datetime.datetime(2024, 4, 13, 0, 0)"
      ]
     },
     "execution_count": 8,
     "metadata": {},
     "output_type": "execute_result"
    }
   ],
   "source": [
    "wrf_file_name = 'wrfout_d02_2024-04-13_00:00:00'\n",
    "wrfout_time(wrf_file_name)"
   ]
  },
  {
   "cell_type": "markdown",
   "id": "310e5050-a63d-47bd-9b98-aaa7564d6661",
   "metadata": {},
   "source": [
    "The function `wrfout_inside_time` will return a boolean dependent on whether a wrfout file represents a time between the two datetime objects `init_time` and `final_time`. \n",
    "\n",
    "We have set these two variables as the first and last valid times in the kestrel data."
   ]
  },
  {
   "cell_type": "code",
   "execution_count": 9,
   "id": "6ec924a8-8aa1-40f6-8fc5-191a92475a8c",
   "metadata": {},
   "outputs": [],
   "source": [
    "# Get time bounds from Obs data\n",
    "init_time = kes_data.iat[0, 0].to_pydatetime()\n",
    "final_time = kes_data.iat[-1, 0].to_pydatetime()\n",
    "\n",
    "def wrfout_inside_time(filename):\n",
    "    \"\"\" \n",
    "    boolean, Filters wrfout files such that only files valid in a time range\n",
    "    \"\"\"\n",
    "    return init_time <= wrfout_time(filename) and wrfout_time(filename) <= final_time"
   ]
  },
  {
   "cell_type": "markdown",
   "id": "7f4b5e47-1858-4835-bf7b-d9066b44a3e8",
   "metadata": {},
   "source": [
    "For example:"
   ]
  },
  {
   "cell_type": "code",
   "execution_count": 10,
   "id": "93a4a2d9-649f-4fe2-8bda-514167b99a3d",
   "metadata": {},
   "outputs": [
    {
     "data": {
      "text/plain": [
       "(datetime.datetime(2023, 10, 9, 12, 44),\n",
       " datetime.datetime(2023, 10, 11, 8, 50),\n",
       " datetime.datetime(2024, 4, 13, 0, 0))"
      ]
     },
     "execution_count": 10,
     "metadata": {},
     "output_type": "execute_result"
    }
   ],
   "source": [
    "init_time, final_time, wrfout_time(wrf_file_name)"
   ]
  },
  {
   "cell_type": "code",
   "execution_count": 11,
   "id": "a0b47a7b-224d-4c2a-b698-e53360802292",
   "metadata": {},
   "outputs": [
    {
     "data": {
      "text/plain": [
       "False"
      ]
     },
     "execution_count": 11,
     "metadata": {},
     "output_type": "execute_result"
    }
   ],
   "source": [
    "wrfout_inside_time(wrf_file_name)"
   ]
  },
  {
   "cell_type": "markdown",
   "id": "419d328a-ac82-44f1-bd01-2754fab13aeb",
   "metadata": {},
   "source": [
    "\n",
    "### Import WRF data"
   ]
  },
  {
   "cell_type": "markdown",
   "id": "c670606d-5e98-44ef-964d-291f2192ce92",
   "metadata": {},
   "source": [
    "Here we upload the correct wrfouts by filtering using the two function shown above.\n",
    "\n",
    "\n",
    "First we navigate to the desired directory - here `2023100912` is the date and hour of the forecast initiation time."
   ]
  },
  {
   "cell_type": "markdown",
   "id": "1e410a85-f926-45a0-890e-fb3574b58ff7",
   "metadata": {},
   "source": [
    "The wrf forecast run in Coordinated Universal Time (UTC). How will we need to account for this?"
   ]
  },
  {
   "cell_type": "code",
   "execution_count": 12,
   "id": "8a9c63cf-ed21-4076-a96e-eccd7c220b49",
   "metadata": {
    "tags": []
   },
   "outputs": [],
   "source": [
    "path = '/data/shared_data/model/2023100912/'\n",
    "os.chdir(path)"
   ]
  },
  {
   "cell_type": "markdown",
   "id": "d86fedd6-4f86-4257-a421-35c9dd2d2098",
   "metadata": {},
   "source": [
    "We then use the glob module to get all files in that directory that start with the prefix `wrfout_d02` using the wildcard character `*` which is equivalent to any any string that follows our prefix. "
   ]
  },
  {
   "cell_type": "code",
   "execution_count": 13,
   "id": "3cdff8a9-a882-48ff-bca1-d75f984ee1fc",
   "metadata": {
    "tags": []
   },
   "outputs": [
    {
     "data": {
      "text/plain": [
       "['wrfout_d02_2023-10-10_02:00:00',\n",
       " 'wrfout_d02_2023-10-10_03:00:00',\n",
       " 'wrfout_d02_2023-10-10_04:00:00',\n",
       " 'wrfout_d02_2023-10-10_05:00:00',\n",
       " 'wrfout_d02_2023-10-10_06:00:00',\n",
       " 'wrfout_d02_2023-10-10_07:00:00',\n",
       " 'wrfout_d02_2023-10-10_08:00:00',\n",
       " 'wrfout_d02_2023-10-10_09:00:00',\n",
       " 'wrfout_d02_2023-10-10_10:00:00',\n",
       " 'wrfout_d02_2023-10-10_11:00:00',\n",
       " 'wrfout_d02_2023-10-10_12:00:00',\n",
       " 'wrfout_d02_2023-10-10_13:00:00',\n",
       " 'wrfout_d02_2023-10-10_14:00:00',\n",
       " 'wrfout_d02_2023-10-09_14:00:00',\n",
       " 'wrfout_d02_2023-10-09_15:00:00',\n",
       " 'wrfout_d02_2023-10-09_18:00:00',\n",
       " 'wrfout_d02_2023-10-09_19:00:00',\n",
       " 'wrfout_d02_2023-10-10_15:00:00',\n",
       " 'wrfout_d02_2023-10-10_16:00:00',\n",
       " 'wrfout_d02_2023-10-10_17:00:00',\n",
       " 'wrfout_d02_2023-10-10_18:00:00',\n",
       " 'wrfout_d02_2023-10-10_19:00:00',\n",
       " 'wrfout_d02_2023-10-10_20:00:00',\n",
       " 'wrfout_d02_2023-10-10_21:00:00',\n",
       " 'wrfout_d02_2023-10-10_22:00:00',\n",
       " 'wrfout_d02_2023-10-10_23:00:00',\n",
       " 'wrfout_d02_2023-10-11_00:00:00',\n",
       " 'wrfout_d02_2023-10-11_01:00:00',\n",
       " 'wrfout_d02_2023-10-11_02:00:00',\n",
       " 'wrfout_d02_2023-10-11_03:00:00',\n",
       " 'wrfout_d02_2023-10-11_04:00:00',\n",
       " 'wrfout_d02_2023-10-11_05:00:00',\n",
       " 'wrfout_d02_2023-10-11_06:00:00',\n",
       " 'wrfout_d02_2023-10-11_07:00:00',\n",
       " 'wrfout_d02_2023-10-11_08:00:00',\n",
       " 'wrfout_d02_2023-10-11_09:00:00',\n",
       " 'wrfout_d02_2023-10-11_10:00:00',\n",
       " 'wrfout_d02_2023-10-11_11:00:00',\n",
       " 'wrfout_d02_2023-10-11_12:00:00',\n",
       " 'wrfout_d02_2023-10-11_13:00:00',\n",
       " 'wrfout_d02_2023-10-11_14:00:00',\n",
       " 'wrfout_d02_2023-10-11_15:00:00',\n",
       " 'wrfout_d02_2023-10-11_16:00:00',\n",
       " 'wrfout_d02_2023-10-11_17:00:00',\n",
       " 'wrfout_d02_2023-10-11_18:00:00',\n",
       " 'wrfout_d02_2023-10-11_19:00:00',\n",
       " 'wrfout_d02_2023-10-11_20:00:00',\n",
       " 'wrfout_d02_2023-10-11_21:00:00',\n",
       " 'wrfout_d02_2023-10-11_22:00:00',\n",
       " 'wrfout_d02_2023-10-11_23:00:00',\n",
       " 'wrfout_d02_2023-10-12_00:00:00']"
      ]
     },
     "execution_count": 13,
     "metadata": {},
     "output_type": "execute_result"
    }
   ],
   "source": [
    "all_wrfouts = glob.glob('wrfout_d02*')\n",
    "all_wrfouts[10:]"
   ]
  },
  {
   "cell_type": "markdown",
   "id": "8b111411-92c5-4643-95eb-513926576bbb",
   "metadata": {},
   "source": [
    "The filenames are sorted and then we filter them using the `wrf_inside_time` function, the read them into a list of `Dataset` objects provided by `netCDF4`"
   ]
  },
  {
   "cell_type": "code",
   "execution_count": 30,
   "id": "dc98a0a8-e1b6-4eec-a997-9aaa8f65fb52",
   "metadata": {
    "tags": []
   },
   "outputs": [
    {
     "data": {
      "text/plain": [
       "masked_array(\n",
       "  data=[[[102123.836, 102126.05 , 102128.445, ..., 101115.42 ,\n",
       "          101107.87 , 101100.28 ],\n",
       "         [102123.62 , 102125.58 , 102128.016, ..., 101058.875,\n",
       "          101054.85 , 101048.61 ],\n",
       "         [102123.414, 102125.35 , 102127.945, ..., 100993.875,\n",
       "          100995.69 , 100999.43 ],\n",
       "         ...,\n",
       "         [101270.96 , 101275.66 , 101279.71 , ..., 101690.72 ,\n",
       "          101691.59 , 101691.92 ],\n",
       "         [101269.3  , 101273.67 , 101277.79 , ..., 101685.92 ,\n",
       "          101687.74 , 101688.8  ],\n",
       "         [101268.05 , 101271.74 , 101275.6  , ..., 101681.25 ,\n",
       "          101683.48 , 101685.51 ]]],\n",
       "  mask=False,\n",
       "  fill_value=1e+20,\n",
       "  dtype=float32)"
      ]
     },
     "execution_count": 30,
     "metadata": {},
     "output_type": "execute_result"
    }
   ],
   "source": [
    "all_wrfouts.sort()\n",
    "intime_wrfouts = [path + filename for filename in list(filter(wrfout_inside_time, all_wrfouts))]\n",
    "\n",
    "datasets = [Dataset(wrfout, 'r') for wrfout in intime_wrfouts]"
   ]
  },
  {
   "cell_type": "markdown",
   "id": "c9ba0a5c-04d1-4bb3-a302-738ea4a1ae3a",
   "metadata": {},
   "source": [
    "### Using wrf-python to load and interpolate our wrf data to the kestrel location"
   ]
  },
  {
   "cell_type": "markdown",
   "id": "7b486bce-5997-421c-82f1-62c82d6368f4",
   "metadata": {},
   "source": [
    "The `wrf-python` package will be used regularily throughout the course to help us process the WRF model data.\n",
    "\n",
    "We use the function `ll_to_xy` to get the gridpoint coordinates from our latitude longitude coordinates.\n",
    "\n",
    "We do this for two cases, `as_int` both `True`, which is the nearest gridpoint, and as `False` which returns a decimal value i.e. the exact point which is floating between grid points."
   ]
  },
  {
   "cell_type": "code",
   "execution_count": 15,
   "id": "352c50b9-ad44-498a-8820-2926b9f2dc31",
   "metadata": {
    "tags": []
   },
   "outputs": [
    {
     "data": {
      "text/plain": [
       "(<xarray.DataArray 'xy' (x_y: 2)> Size: 16B\n",
       " array([161.904447  , 104.05856499])\n",
       " Coordinates:\n",
       "     latlon_coord  object 8B CoordPair(lat=53.804602231327706, lon=-1.56108719...\n",
       "   * x_y           (x_y) <U1 8B 'x' 'y',\n",
       " <xarray.DataArray 'xy' (x_y: 2)> Size: 16B\n",
       " array([162, 104])\n",
       " Coordinates:\n",
       "     latlon_coord  object 8B CoordPair(lat=53.804602231327706, lon=-1.56108719...\n",
       "   * x_y           (x_y) <U1 8B 'x' 'y')"
      ]
     },
     "execution_count": 15,
     "metadata": {},
     "output_type": "execute_result"
    }
   ],
   "source": [
    "from wrf import getvar, ll_to_xy, ALL_TIMES\n",
    "\n",
    "grid_ref_flt = ll_to_xy(datasets[0], 53.804602231327706, -1.5610871999035574, as_int=False)\n",
    "grid_ref_int = ll_to_xy(datasets[0], 53.804602231327706, -1.5610871999035574, as_int=True)\n",
    "grid_ref_flt, grid_ref_int"
   ]
  },
  {
   "cell_type": "markdown",
   "id": "b24befec-de81-42ef-a2dc-dcaa434c035a",
   "metadata": {},
   "source": [
    "We create two `Interpolator` objects, one for each case of the grid reference."
   ]
  },
  {
   "cell_type": "markdown",
   "id": "a9ba1c67-248f-4f9e-b0e1-16710f8aaa8b",
   "metadata": {},
   "source": [
    "### what are the implications of using interpolation???"
   ]
  },
  {
   "cell_type": "code",
   "execution_count": 16,
   "id": "9fb0353a-1c7e-42d6-8e08-0bdd96df0d60",
   "metadata": {
    "tags": []
   },
   "outputs": [],
   "source": [
    "interps_flt = Interpolator(grid_ref_flt[1], grid_ref_flt[0])\n",
    "interps_int = Interpolator(grid_ref_int[1], grid_ref_int[0])"
   ]
  },
  {
   "cell_type": "markdown",
   "id": "817d2481-61d1-46ab-b56a-8341b75d519f",
   "metadata": {},
   "source": [
    "Now we load the desired variables using the `getvar` function from `wrf-python`: 2m temperature as `T2` (dry bulb) and 2m relative humidity as `rh2`.\n",
    "\n",
    "These quantities are part of the standard set of diagnostics that `wrf-python` let's us access.\n",
    "\n",
    "We can run `getvar` on a list of datasets, and use the `cat` method to create on netcdf object for the variable."
   ]
  },
  {
   "cell_type": "code",
   "execution_count": 17,
   "id": "b9e1ef65-1cb0-4851-ae2d-64111c687327",
   "metadata": {
    "tags": []
   },
   "outputs": [],
   "source": [
    "T2 = getvar(datasets, 'T2', timeidx=None, method='cat')\n",
    "RH = getvar(datasets, 'rh2', timeidx=None, method='cat')"
   ]
  },
  {
   "cell_type": "markdown",
   "id": "011919aa-273b-48e9-972f-5eaf2c3d0571",
   "metadata": {},
   "source": [
    "We now interpolate both the `T2` and `RH` data. Again we use list comprehensions, we can think of this as 'at each timestep, interpolate the two dimensional array to the given xy grid reference'."
   ]
  },
  {
   "cell_type": "code",
   "execution_count": 18,
   "id": "53da5dde-4dcd-4cda-b609-fadd00f99012",
   "metadata": {
    "tags": []
   },
   "outputs": [
    {
     "data": {
      "text/plain": [
       "array([69.32102966, 74.21098328, 76.01914978, 78.21497345, 84.68736267,\n",
       "       88.94715881, 92.07346344, 90.91184235, 92.15927887, 92.89099884,\n",
       "       95.49490356, 96.79550171, 95.46625519, 92.53643799, 88.63262939,\n",
       "       83.27398682, 80.19454193, 78.9300766 , 75.30188751, 71.17453766,\n",
       "       68.83661652, 58.77187729, 52.01621246, 43.4196167 , 45.28322983,\n",
       "       51.98373795, 57.66690063, 62.75677872, 70.07728577, 74.69117737,\n",
       "       79.23622131, 84.08692169, 86.64588165, 89.52274323, 90.76152039,\n",
       "       89.98697662, 89.89839935, 90.24076843, 89.06673431, 88.53178406,\n",
       "       90.43584442, 90.51456451, 92.0663147 , 85.97400665])"
      ]
     },
     "execution_count": 18,
     "metadata": {},
     "output_type": "execute_result"
    }
   ],
   "source": [
    "T2_flt = np.array([interps_flt.interp(twodarr) for twodarr in T2.to_numpy()])-273.15\n",
    "T2_int = np.array([interps_int.interp(twodarr) for twodarr in T2.to_numpy()])-273.15\n",
    "\n",
    "RH_flt = np.array([interps_flt.interp(twodarr) for twodarr in RH.to_numpy()])\n",
    "RH_int = np.array([interps_int.interp(twodarr) for twodarr in RH.to_numpy()])\n",
    "\n",
    "RH_int"
   ]
  },
  {
   "cell_type": "markdown",
   "id": "aeedb4ff-5e63-4b09-8aff-a7309da6c4c9",
   "metadata": {},
   "source": [
    "Why have we taken `273.15` from the `T2` arrays?"
   ]
  },
  {
   "cell_type": "markdown",
   "id": "52b99473-1ed1-4196-8193-0da46ee81645",
   "metadata": {
    "tags": []
   },
   "source": [
    "### Plotting"
   ]
  },
  {
   "cell_type": "markdown",
   "id": "14ae2112-d594-444d-bc1a-739c4415497b",
   "metadata": {},
   "source": [
    "We will plot our data using a custom class: `VerticalPlotter`, which allows us to created vertically stacked plots with an easy interface.\n",
    "\n",
    "It requires us to create some data structures that represent what we want to plot.\n",
    "\n",
    "At the top level we have an array (correlating to a plot) of dictionaries (corresponding to lines on that plot).\n",
    "\n",
    "Each line dictionary will contain `x` for the x axis data, `y` for the axis data (both of which must be one dimensional arrays of the same size) and optionally a `label` for the legend, a `color`, a `linestyle` and a `marker`. \n",
    "\n",
    "Please see how the examples below..."
   ]
  },
  {
   "cell_type": "code",
   "execution_count": 19,
   "id": "2a6fd082-10de-4f08-96a4-f30e257a1df7",
   "metadata": {},
   "outputs": [],
   "source": [
    "temp_lines_all = [\n",
    "    {\n",
    "        'x': kes_data['Time'].to_numpy().flatten(),\n",
    "        'y': kes_data['Temp'].to_numpy().flatten(),\n",
    "        'label': 'Kestrel',\n",
    "        'color': 'r',\n",
    "        'linestyle': '-',\n",
    "        'marker': ''\n",
    "    },\n",
    "    {\n",
    "        'x': T2.coords['Time'].to_numpy(),\n",
    "        'y': T2_int,\n",
    "        'label': 'WRF, nearest gridpoint',\n",
    "        'color': 'g',\n",
    "        'linestyle': '',\n",
    "        'marker': 'o'\n",
    "\n",
    "    },\n",
    "    {\n",
    "        'x': T2.coords['Time'].to_numpy(),\n",
    "        'y': T2_flt,\n",
    "        'label': 'WRF, interpolated',\n",
    "        'color': 'b',\n",
    "        'linestyle': '',\n",
    "        'marker': 'x'\n",
    "\n",
    "    }\n",
    "]\n",
    "\n",
    "rh_lines_all = [\n",
    "    {\n",
    "        'x': kes_data['Time'].to_numpy().flatten(),\n",
    "        'y': kes_data['Rel. Hum.'].to_numpy().flatten(),\n",
    "        'label': 'Kestrel',\n",
    "        'color': 'r',\n",
    "        'linestyle': '-',\n",
    "        'marker': ''\n",
    "    },\n",
    "    {\n",
    "        'x': RH.coords['Time'].to_numpy(),\n",
    "        'y': RH_int,\n",
    "        'label': 'WRF, nearest gridpoint',\n",
    "        'color': 'g',\n",
    "        'linestyle': '',\n",
    "        'marker': 'o'\n",
    "\n",
    "    }\n",
    "]"
   ]
  },
  {
   "cell_type": "markdown",
   "id": "bd388581-fb13-471f-9d67-0057cf1f29b9",
   "metadata": {},
   "source": [
    "We will now initialise our `VerticalPlotter` object.\n",
    "\n",
    "\n",
    "The arguments here are:\n",
    "    \n",
    "size of each subplot: `(20, 3)`\n",
    "number of subplots: `2`,\n",
    "title: `Blen.`\n",
    "space between the plot: `space_between=0`"
   ]
  },
  {
   "cell_type": "code",
   "execution_count": 20,
   "id": "23587e36-ac1b-4fba-8a05-ed3928a02d79",
   "metadata": {},
   "outputs": [],
   "source": [
    "plot = VerticalPlotter((20, 3), 2, 'Blen.', space_between=0)"
   ]
  },
  {
   "cell_type": "markdown",
   "id": "47425642-e1b8-4fe0-8e4b-cd7da6b2009b",
   "metadata": {},
   "source": [
    "Now we call the `add_plot` method for each of our plot arrays above.\n",
    "\n",
    "The second argument is the y axis label."
   ]
  },
  {
   "cell_type": "code",
   "execution_count": 21,
   "id": "f18ca88d-fbe0-4152-bb1f-16623cfaf66e",
   "metadata": {},
   "outputs": [
    {
     "data": {
      "image/png": "[encoded data removed]",
      "text/plain": [
       "<Figure size 2000x600 with 4 Axes>"
      ]
     },
     "metadata": {},
     "output_type": "display_data"
    }
   ],
   "source": [
    "plot.add_plot(temp_lines_all, 'Temperature\\n(C)', legend=True)\n",
    "plot.add_plot(rh_lines_all, 'Rel. Hum. \\n(%)', legend=True)"
   ]
  },
  {
   "cell_type": "code",
   "execution_count": null,
   "id": "a3f3a735-a765-4b70-8a7f-ebb24743137c",
   "metadata": {},
   "outputs": [],
   "source": []
  }
 ],
 "metadata": {
  "kernelspec": {
   "display_name": "Python 3 (ipykernel)",
   "language": "python",
   "name": "python3"
  },
  "language_info": {
   "codemirror_mode": {
    "name": "ipython",
    "version": 3
   },
   "file_extension": ".py",
   "mimetype": "text/x-python",
   "name": "python",
   "nbconvert_exporter": "python",
   "pygments_lexer": "ipython3",
   "version": "3.9.13"
  }
 },
 "nbformat": 4,
 "nbformat_minor": 5
}

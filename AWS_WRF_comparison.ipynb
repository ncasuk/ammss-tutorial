{
 "cells": [
  {
   "cell_type": "code",
   "execution_count": 1,
   "id": "bc2fd78b-287a-4499-a59d-8db2e34f990f",
   "metadata": {},
   "outputs": [
    {
     "name": "stderr",
     "output_type": "stream",
     "text": [
      "/home/lmar/.local/lib/python3.9/site-packages/pandas/core/computation/expressions.py:21: UserWarning: Pandas requires version '2.8.4' or newer of 'numexpr' (version '2.8.3' currently installed).\n",
      "  from pandas.core.computation.check import NUMEXPR_INSTALLED\n",
      "/home/lmar/.local/lib/python3.9/site-packages/pandas/core/arrays/masked.py:60: UserWarning: Pandas requires version '1.3.6' or newer of 'bottleneck' (version '1.3.5' currently installed).\n",
      "  from pandas.core import (\n",
      "/tmp/ipykernel_11204/2430711590.py:2: DeprecationWarning: \n",
      "Pyarrow will become a required dependency of pandas in the next major release of pandas (pandas 3.0),\n",
      "(to allow more performant data types, such as the Arrow string type, and better interoperability with other libraries)\n",
      "but was not found to be installed on your system.\n",
      "If this would cause problems for you,\n",
      "please provide us feedback at https://github.com/pandas-dev/pandas/issues/54466\n",
      "        \n",
      "  import pandas as pd\n"
     ]
    }
   ],
   "source": [
    "import datetime as dt\n",
    "import pandas as pd\n",
    "import numpy as np\n",
    "import glob\n",
    "from netCDF4 import Dataset\n",
    "import os"
   ]
  },
  {
   "cell_type": "code",
   "execution_count": 2,
   "id": "0a2b3a83-0db8-4de3-bc14-e3925506411d",
   "metadata": {},
   "outputs": [],
   "source": [
    "import sys\n",
    "sys.path.append('/data/shared_data/scripts/ammss/')\n",
    "from MultiLineSubPlotter import MultiLineSubplotter, VerticalPlotter, HorizontalPlotter\n",
    "from Interpolator import Interpolator"
   ]
  },
  {
   "cell_type": "markdown",
   "id": "4fb84ceb-b856-4222-8448-d267f8fb63d3",
   "metadata": {},
   "source": [
    "### Importing the observation data\n",
    "\n",
    "Our goal here is to get the AWS `.csv` file into a pandas dataframe, with the correct formatting.\n",
    "\n",
    "Below, we first read the file into a dataframe, indicating that the column values are separated by a comma. "
   ]
  },
  {
   "cell_type": "code",
   "execution_count": 3,
   "id": "5cd0895b-14d2-4431-9424-d16eb548c5f4",
   "metadata": {},
   "outputs": [],
   "source": [
    "path = '/data/shared_data/observations/Davis-weather-station/CUSTOM-ARC-2024-05-14-METRIC.csv'\n",
    "\n",
    "aws_data = pd.read_csv(path, delimiter=',')"
   ]
  },
  {
   "cell_type": "code",
   "execution_count": 4,
   "id": "73c3129e-8dce-482b-b267-f117a341c178",
   "metadata": {},
   "outputs": [
    {
     "data": {
      "text/html": [
       "<div>\n",
       "<style scoped>\n",
       "    .dataframe tbody tr th:only-of-type {\n",
       "        vertical-align: middle;\n",
       "    }\n",
       "\n",
       "    .dataframe tbody tr th {\n",
       "        vertical-align: top;\n",
       "    }\n",
       "\n",
       "    .dataframe thead th {\n",
       "        text-align: right;\n",
       "    }\n",
       "</style>\n",
       "<table border=\"1\" class=\"dataframe\">\n",
       "  <thead>\n",
       "    <tr style=\"text-align: right;\">\n",
       "      <th></th>\n",
       "      <th>Timestamp (UTC)</th>\n",
       "      <th>Temp / °C</th>\n",
       "      <th>Chill / °C</th>\n",
       "      <th>HIndex / °C</th>\n",
       "      <th>Humid%</th>\n",
       "      <th>Dewpt / °C</th>\n",
       "      <th>Wind / ms¯¹</th>\n",
       "      <th>HiWind / ms¯¹</th>\n",
       "      <th>Winddir / °</th>\n",
       "      <th>Rain / mm</th>\n",
       "      <th>RainRate / mmhr¯¹</th>\n",
       "      <th>Pressure / hPa</th>\n",
       "      <th>InsideTemp / °C</th>\n",
       "      <th>InsideHumid%</th>\n",
       "      <th>Radiation / Wm¯²</th>\n",
       "      <th>UV</th>\n",
       "    </tr>\n",
       "  </thead>\n",
       "  <tbody>\n",
       "    <tr>\n",
       "      <th>0</th>\n",
       "      <td>2024-05-14 00:00:00</td>\n",
       "      <td>13.3</td>\n",
       "      <td>13.3</td>\n",
       "      <td>13.1</td>\n",
       "      <td>93.0</td>\n",
       "      <td>12.2</td>\n",
       "      <td>1.3</td>\n",
       "      <td>2.7</td>\n",
       "      <td>180.0</td>\n",
       "      <td>0.0</td>\n",
       "      <td>0.0</td>\n",
       "      <td>970.3</td>\n",
       "      <td>18.7</td>\n",
       "      <td>64.0</td>\n",
       "      <td>0</td>\n",
       "      <td>0.0</td>\n",
       "    </tr>\n",
       "    <tr>\n",
       "      <th>1</th>\n",
       "      <td>2024-05-14 00:01:00</td>\n",
       "      <td>13.3</td>\n",
       "      <td>13.3</td>\n",
       "      <td>13.1</td>\n",
       "      <td>93.0</td>\n",
       "      <td>12.2</td>\n",
       "      <td>0.4</td>\n",
       "      <td>0.9</td>\n",
       "      <td>90.0</td>\n",
       "      <td>0.0</td>\n",
       "      <td>0.0</td>\n",
       "      <td>970.2</td>\n",
       "      <td>18.7</td>\n",
       "      <td>64.0</td>\n",
       "      <td>0</td>\n",
       "      <td>0.0</td>\n",
       "    </tr>\n",
       "    <tr>\n",
       "      <th>2</th>\n",
       "      <td>2024-05-14 00:02:00</td>\n",
       "      <td>13.3</td>\n",
       "      <td>13.3</td>\n",
       "      <td>13.1</td>\n",
       "      <td>93.0</td>\n",
       "      <td>12.2</td>\n",
       "      <td>0.9</td>\n",
       "      <td>1.8</td>\n",
       "      <td>135.0</td>\n",
       "      <td>0.0</td>\n",
       "      <td>0.0</td>\n",
       "      <td>970.3</td>\n",
       "      <td>18.7</td>\n",
       "      <td>64.0</td>\n",
       "      <td>0</td>\n",
       "      <td>0.0</td>\n",
       "    </tr>\n",
       "    <tr>\n",
       "      <th>3</th>\n",
       "      <td>2024-05-14 00:03:00</td>\n",
       "      <td>13.3</td>\n",
       "      <td>13.3</td>\n",
       "      <td>13.1</td>\n",
       "      <td>93.0</td>\n",
       "      <td>12.2</td>\n",
       "      <td>0.0</td>\n",
       "      <td>0.4</td>\n",
       "      <td>NaN</td>\n",
       "      <td>0.3</td>\n",
       "      <td>0.0</td>\n",
       "      <td>970.3</td>\n",
       "      <td>18.7</td>\n",
       "      <td>64.0</td>\n",
       "      <td>0</td>\n",
       "      <td>0.0</td>\n",
       "    </tr>\n",
       "    <tr>\n",
       "      <th>4</th>\n",
       "      <td>2024-05-14 00:04:00</td>\n",
       "      <td>13.3</td>\n",
       "      <td>13.3</td>\n",
       "      <td>13.1</td>\n",
       "      <td>93.0</td>\n",
       "      <td>12.2</td>\n",
       "      <td>0.4</td>\n",
       "      <td>0.9</td>\n",
       "      <td>112.5</td>\n",
       "      <td>0.0</td>\n",
       "      <td>0.0</td>\n",
       "      <td>970.3</td>\n",
       "      <td>18.7</td>\n",
       "      <td>64.0</td>\n",
       "      <td>0</td>\n",
       "      <td>0.0</td>\n",
       "    </tr>\n",
       "    <tr>\n",
       "      <th>...</th>\n",
       "      <td>...</td>\n",
       "      <td>...</td>\n",
       "      <td>...</td>\n",
       "      <td>...</td>\n",
       "      <td>...</td>\n",
       "      <td>...</td>\n",
       "      <td>...</td>\n",
       "      <td>...</td>\n",
       "      <td>...</td>\n",
       "      <td>...</td>\n",
       "      <td>...</td>\n",
       "      <td>...</td>\n",
       "      <td>...</td>\n",
       "      <td>...</td>\n",
       "      <td>...</td>\n",
       "      <td>...</td>\n",
       "    </tr>\n",
       "    <tr>\n",
       "      <th>1435</th>\n",
       "      <td>2024-05-14 23:55:00</td>\n",
       "      <td>13.0</td>\n",
       "      <td>13.0</td>\n",
       "      <td>12.5</td>\n",
       "      <td>83.0</td>\n",
       "      <td>10.2</td>\n",
       "      <td>0.0</td>\n",
       "      <td>0.0</td>\n",
       "      <td>NaN</td>\n",
       "      <td>0.0</td>\n",
       "      <td>0.0</td>\n",
       "      <td>972.3</td>\n",
       "      <td>18.3</td>\n",
       "      <td>63.0</td>\n",
       "      <td>0</td>\n",
       "      <td>0.0</td>\n",
       "    </tr>\n",
       "    <tr>\n",
       "      <th>1436</th>\n",
       "      <td>2024-05-14 23:56:00</td>\n",
       "      <td>13.1</td>\n",
       "      <td>13.1</td>\n",
       "      <td>12.6</td>\n",
       "      <td>83.0</td>\n",
       "      <td>10.2</td>\n",
       "      <td>0.0</td>\n",
       "      <td>0.0</td>\n",
       "      <td>NaN</td>\n",
       "      <td>0.0</td>\n",
       "      <td>0.0</td>\n",
       "      <td>972.3</td>\n",
       "      <td>18.3</td>\n",
       "      <td>63.0</td>\n",
       "      <td>0</td>\n",
       "      <td>0.0</td>\n",
       "    </tr>\n",
       "    <tr>\n",
       "      <th>1437</th>\n",
       "      <td>2024-05-14 23:57:00</td>\n",
       "      <td>13.1</td>\n",
       "      <td>13.1</td>\n",
       "      <td>12.6</td>\n",
       "      <td>84.0</td>\n",
       "      <td>10.4</td>\n",
       "      <td>0.4</td>\n",
       "      <td>0.9</td>\n",
       "      <td>45.0</td>\n",
       "      <td>0.0</td>\n",
       "      <td>0.0</td>\n",
       "      <td>972.3</td>\n",
       "      <td>18.3</td>\n",
       "      <td>63.0</td>\n",
       "      <td>0</td>\n",
       "      <td>0.0</td>\n",
       "    </tr>\n",
       "    <tr>\n",
       "      <th>1438</th>\n",
       "      <td>2024-05-14 23:58:00</td>\n",
       "      <td>13.1</td>\n",
       "      <td>13.1</td>\n",
       "      <td>12.6</td>\n",
       "      <td>83.0</td>\n",
       "      <td>10.2</td>\n",
       "      <td>0.0</td>\n",
       "      <td>0.9</td>\n",
       "      <td>NaN</td>\n",
       "      <td>0.0</td>\n",
       "      <td>0.0</td>\n",
       "      <td>972.3</td>\n",
       "      <td>18.3</td>\n",
       "      <td>63.0</td>\n",
       "      <td>0</td>\n",
       "      <td>0.0</td>\n",
       "    </tr>\n",
       "    <tr>\n",
       "      <th>1439</th>\n",
       "      <td>2024-05-14 23:59:00</td>\n",
       "      <td>13.1</td>\n",
       "      <td>13.1</td>\n",
       "      <td>12.6</td>\n",
       "      <td>84.0</td>\n",
       "      <td>10.4</td>\n",
       "      <td>0.0</td>\n",
       "      <td>0.0</td>\n",
       "      <td>NaN</td>\n",
       "      <td>0.0</td>\n",
       "      <td>0.0</td>\n",
       "      <td>972.3</td>\n",
       "      <td>18.3</td>\n",
       "      <td>63.0</td>\n",
       "      <td>0</td>\n",
       "      <td>0.0</td>\n",
       "    </tr>\n",
       "  </tbody>\n",
       "</table>\n",
       "<p>1440 rows × 16 columns</p>\n",
       "</div>"
      ],
      "text/plain": [
       "          Timestamp (UTC)  Temp / °C  Chill / °C  HIndex / °C  Humid%  \\\n",
       "0     2024-05-14 00:00:00       13.3        13.3         13.1    93.0   \n",
       "1     2024-05-14 00:01:00       13.3        13.3         13.1    93.0   \n",
       "2     2024-05-14 00:02:00       13.3        13.3         13.1    93.0   \n",
       "3     2024-05-14 00:03:00       13.3        13.3         13.1    93.0   \n",
       "4     2024-05-14 00:04:00       13.3        13.3         13.1    93.0   \n",
       "...                   ...        ...         ...          ...     ...   \n",
       "1435  2024-05-14 23:55:00       13.0        13.0         12.5    83.0   \n",
       "1436  2024-05-14 23:56:00       13.1        13.1         12.6    83.0   \n",
       "1437  2024-05-14 23:57:00       13.1        13.1         12.6    84.0   \n",
       "1438  2024-05-14 23:58:00       13.1        13.1         12.6    83.0   \n",
       "1439  2024-05-14 23:59:00       13.1        13.1         12.6    84.0   \n",
       "\n",
       "      Dewpt / °C  Wind / ms¯¹  HiWind / ms¯¹  Winddir / °  Rain / mm  \\\n",
       "0           12.2          1.3            2.7        180.0        0.0   \n",
       "1           12.2          0.4            0.9         90.0        0.0   \n",
       "2           12.2          0.9            1.8        135.0        0.0   \n",
       "3           12.2          0.0            0.4          NaN        0.3   \n",
       "4           12.2          0.4            0.9        112.5        0.0   \n",
       "...          ...          ...            ...          ...        ...   \n",
       "1435        10.2          0.0            0.0          NaN        0.0   \n",
       "1436        10.2          0.0            0.0          NaN        0.0   \n",
       "1437        10.4          0.4            0.9         45.0        0.0   \n",
       "1438        10.2          0.0            0.9          NaN        0.0   \n",
       "1439        10.4          0.0            0.0          NaN        0.0   \n",
       "\n",
       "      RainRate / mmhr¯¹  Pressure / hPa  InsideTemp / °C  InsideHumid%  \\\n",
       "0                   0.0           970.3             18.7          64.0   \n",
       "1                   0.0           970.2             18.7          64.0   \n",
       "2                   0.0           970.3             18.7          64.0   \n",
       "3                   0.0           970.3             18.7          64.0   \n",
       "4                   0.0           970.3             18.7          64.0   \n",
       "...                 ...             ...              ...           ...   \n",
       "1435                0.0           972.3             18.3          63.0   \n",
       "1436                0.0           972.3             18.3          63.0   \n",
       "1437                0.0           972.3             18.3          63.0   \n",
       "1438                0.0           972.3             18.3          63.0   \n",
       "1439                0.0           972.3             18.3          63.0   \n",
       "\n",
       "      Radiation / Wm¯²   UV  \n",
       "0                    0  0.0  \n",
       "1                    0  0.0  \n",
       "2                    0  0.0  \n",
       "3                    0  0.0  \n",
       "4                    0  0.0  \n",
       "...                ...  ...  \n",
       "1435                 0  0.0  \n",
       "1436                 0  0.0  \n",
       "1437                 0  0.0  \n",
       "1438                 0  0.0  \n",
       "1439                 0  0.0  \n",
       "\n",
       "[1440 rows x 16 columns]"
      ]
     },
     "execution_count": 4,
     "metadata": {},
     "output_type": "execute_result"
    }
   ],
   "source": [
    "aws_data"
   ]
  },
  {
   "cell_type": "markdown",
   "id": "c3527152-5664-4a13-aad2-231d6be61b31",
   "metadata": {},
   "source": [
    "We can see that the column headers also include the units eof ach measurement has been taken in,this will be hard to index! Lets format it a little bit better"
   ]
  },
  {
   "cell_type": "code",
   "execution_count": 5,
   "id": "fe5a6e32-601e-4ce8-a00c-a070f1b3a570",
   "metadata": {},
   "outputs": [],
   "source": [
    "measurements = [column.split(' ')[0] for column in aws_data.columns]\n",
    "units = [column.split(' ')[-1] for column in aws_data.columns]"
   ]
  },
  {
   "cell_type": "code",
   "execution_count": 6,
   "id": "af73128e-d4bf-4bf5-a616-be39894c409e",
   "metadata": {},
   "outputs": [
    {
     "data": {
      "text/plain": [
       "['Timestamp',\n",
       " 'Temp',\n",
       " 'Chill',\n",
       " 'HIndex',\n",
       " 'Humid%',\n",
       " 'Dewpt',\n",
       " 'Wind',\n",
       " 'HiWind',\n",
       " 'Winddir',\n",
       " 'Rain',\n",
       " 'RainRate',\n",
       " 'Pressure',\n",
       " 'InsideTemp',\n",
       " 'InsideHumid%',\n",
       " 'Radiation',\n",
       " 'UV']"
      ]
     },
     "execution_count": 6,
     "metadata": {},
     "output_type": "execute_result"
    }
   ],
   "source": [
    "measurements"
   ]
  },
  {
   "cell_type": "code",
   "execution_count": 7,
   "id": "1eed60b5-87d0-4dfc-9639-4695147e97fe",
   "metadata": {},
   "outputs": [
    {
     "data": {
      "text/plain": [
       "['Timestamp',\n",
       " 'Temp',\n",
       " 'Chill',\n",
       " 'HIndex',\n",
       " 'Humid',\n",
       " 'Dewpt',\n",
       " 'Wind',\n",
       " 'HiWind',\n",
       " 'Winddir',\n",
       " 'Rain',\n",
       " 'RainRate',\n",
       " 'Pressure',\n",
       " 'InsideTemp',\n",
       " 'InsideHumid',\n",
       " 'Radiation',\n",
       " 'UV']"
      ]
     },
     "execution_count": 7,
     "metadata": {},
     "output_type": "execute_result"
    }
   ],
   "source": [
    "measurements = [string.replace('%', '') for string in measurements]\n",
    "measurements"
   ]
  },
  {
   "cell_type": "code",
   "execution_count": 8,
   "id": "9d6300e0-cb51-49b2-acf0-99fe603033fa",
   "metadata": {},
   "outputs": [
    {
     "data": {
      "text/plain": [
       "['(UTC)',\n",
       " '°C',\n",
       " '°C',\n",
       " '°C',\n",
       " 'Humid%',\n",
       " '°C',\n",
       " 'ms¯¹',\n",
       " 'ms¯¹',\n",
       " '°',\n",
       " 'mm',\n",
       " 'mmhr¯¹',\n",
       " 'hPa',\n",
       " '°C',\n",
       " 'InsideHumid%',\n",
       " 'Wm¯²',\n",
       " 'UV']"
      ]
     },
     "execution_count": 8,
     "metadata": {},
     "output_type": "execute_result"
    }
   ],
   "source": [
    "units"
   ]
  },
  {
   "cell_type": "code",
   "execution_count": 9,
   "id": "ff797516-7559-48cf-8c38-de09ace2dc0d",
   "metadata": {},
   "outputs": [],
   "source": [
    "units = [string.replace('Humid', '').replace('Inside','') for string in units]\n",
    "units[-1] = 'index'"
   ]
  },
  {
   "cell_type": "code",
   "execution_count": 10,
   "id": "c983170b-bfae-49f9-aeda-b17dd4574844",
   "metadata": {},
   "outputs": [
    {
     "data": {
      "text/plain": [
       "['(UTC)',\n",
       " '°C',\n",
       " '°C',\n",
       " '°C',\n",
       " '%',\n",
       " '°C',\n",
       " 'ms¯¹',\n",
       " 'ms¯¹',\n",
       " '°',\n",
       " 'mm',\n",
       " 'mmhr¯¹',\n",
       " 'hPa',\n",
       " '°C',\n",
       " '%',\n",
       " 'Wm¯²',\n",
       " 'index']"
      ]
     },
     "execution_count": 10,
     "metadata": {},
     "output_type": "execute_result"
    }
   ],
   "source": [
    "units"
   ]
  },
  {
   "cell_type": "code",
   "execution_count": 11,
   "id": "be54e269-aad1-45d2-b5fe-a380e4411990",
   "metadata": {},
   "outputs": [],
   "source": [
    "units_lookup = {}\n",
    "for (key, val) in zip(measurements, units):\n",
    "    units_lookup[key]=val"
   ]
  },
  {
   "cell_type": "code",
   "execution_count": 12,
   "id": "2f683ee6-7400-4bdf-bbbe-5ba6e05d3ef3",
   "metadata": {},
   "outputs": [
    {
     "data": {
      "text/plain": [
       "{'Timestamp': '(UTC)',\n",
       " 'Temp': '°C',\n",
       " 'Chill': '°C',\n",
       " 'HIndex': '°C',\n",
       " 'Humid': '%',\n",
       " 'Dewpt': '°C',\n",
       " 'Wind': 'ms¯¹',\n",
       " 'HiWind': 'ms¯¹',\n",
       " 'Winddir': '°',\n",
       " 'Rain': 'mm',\n",
       " 'RainRate': 'mmhr¯¹',\n",
       " 'Pressure': 'hPa',\n",
       " 'InsideTemp': '°C',\n",
       " 'InsideHumid': '%',\n",
       " 'Radiation': 'Wm¯²',\n",
       " 'UV': 'index'}"
      ]
     },
     "execution_count": 12,
     "metadata": {},
     "output_type": "execute_result"
    }
   ],
   "source": [
    "units_lookup"
   ]
  },
  {
   "cell_type": "markdown",
   "id": "6fbb3138-2f4c-4d03-948d-dc8af6b77313",
   "metadata": {},
   "source": [
    "Now we have a dictionary to look up our units from out measurements. Lets set the datafram column headers to be JUST the measurement names."
   ]
  },
  {
   "cell_type": "code",
   "execution_count": 13,
   "id": "954695cf-8dc7-472c-a140-d68665f8ec3f",
   "metadata": {},
   "outputs": [],
   "source": [
    "aws_data.columns = measurements"
   ]
  },
  {
   "cell_type": "markdown",
   "id": "9bd18c8f-27b6-40e8-9050-078fbf54ca61",
   "metadata": {},
   "source": [
    "Next, we take each time value, which is initially a string, and convert it to a date time object. This will enable us to plot more powerfully and have more control over the data.\n",
    "\n",
    "This is how the first ten times look prior to conversion:"
   ]
  },
  {
   "cell_type": "code",
   "execution_count": 14,
   "id": "3973ddc6-38ab-4963-873d-b87a2f467ebc",
   "metadata": {},
   "outputs": [
    {
     "data": {
      "text/plain": [
       "['2024-05-14 00:00:00',\n",
       " '2024-05-14 00:01:00',\n",
       " '2024-05-14 00:02:00',\n",
       " '2024-05-14 00:03:00',\n",
       " '2024-05-14 00:04:00',\n",
       " '2024-05-14 00:05:00',\n",
       " '2024-05-14 00:06:00',\n",
       " '2024-05-14 00:07:00',\n",
       " '2024-05-14 00:08:00',\n",
       " '2024-05-14 00:09:00']"
      ]
     },
     "execution_count": 14,
     "metadata": {},
     "output_type": "execute_result"
    }
   ],
   "source": [
    "aws_data['Timestamp'].to_numpy().flatten().tolist()[:10]"
   ]
  },
  {
   "cell_type": "markdown",
   "id": "d1cac95f-665b-41a4-9598-c803f6fc4695",
   "metadata": {},
   "source": [
    "Note how we have used `aws_data['Time'].to_numpy().flatten().tolist()`. What is happening here?"
   ]
  },
  {
   "cell_type": "markdown",
   "id": "35b6bc43-025b-45eb-b777-2171ce9cb8a6",
   "metadata": {},
   "source": [
    "The cell below uses a python list comprehension , but written out as a for loop it would look like:\n",
    "```\n",
    "converted_times = []\n",
    "\n",
    "for d in  aws_data['Time'].to_numpy().flatten().tolist():\n",
    "    converted_time = dt.datetime.strptime(d, '%Y-%m-%d %H:%M:%S')\n",
    "    converted_times.append(converted_time)\n",
    "  \n",
    "aws_data['Time'] = converted_times\n",
    "```"
   ]
  },
  {
   "cell_type": "code",
   "execution_count": 15,
   "id": "fd3351a3-af82-4b28-9a79-c9367fd9b535",
   "metadata": {},
   "outputs": [],
   "source": [
    "aws_data['Timestamp'] = [dt.datetime.strptime(d, '%Y-%m-%d %H:%M:%S') for d in aws_data['Timestamp'].to_numpy().flatten().tolist()]"
   ]
  },
  {
   "cell_type": "markdown",
   "id": "e03e3d43-59a0-4513-a88c-8ec2ba79437d",
   "metadata": {},
   "source": [
    "Let's look at our formatted data."
   ]
  },
  {
   "cell_type": "code",
   "execution_count": 16,
   "id": "629616f4-5e69-425c-a73d-7b29b0103085",
   "metadata": {},
   "outputs": [
    {
     "data": {
      "text/html": [
       "<div>\n",
       "<style scoped>\n",
       "    .dataframe tbody tr th:only-of-type {\n",
       "        vertical-align: middle;\n",
       "    }\n",
       "\n",
       "    .dataframe tbody tr th {\n",
       "        vertical-align: top;\n",
       "    }\n",
       "\n",
       "    .dataframe thead th {\n",
       "        text-align: right;\n",
       "    }\n",
       "</style>\n",
       "<table border=\"1\" class=\"dataframe\">\n",
       "  <thead>\n",
       "    <tr style=\"text-align: right;\">\n",
       "      <th></th>\n",
       "      <th>Timestamp</th>\n",
       "      <th>Temp</th>\n",
       "      <th>Chill</th>\n",
       "      <th>HIndex</th>\n",
       "      <th>Humid</th>\n",
       "      <th>Dewpt</th>\n",
       "      <th>Wind</th>\n",
       "      <th>HiWind</th>\n",
       "      <th>Winddir</th>\n",
       "      <th>Rain</th>\n",
       "      <th>RainRate</th>\n",
       "      <th>Pressure</th>\n",
       "      <th>InsideTemp</th>\n",
       "      <th>InsideHumid</th>\n",
       "      <th>Radiation</th>\n",
       "      <th>UV</th>\n",
       "    </tr>\n",
       "  </thead>\n",
       "  <tbody>\n",
       "    <tr>\n",
       "      <th>0</th>\n",
       "      <td>2024-05-14 00:00:00</td>\n",
       "      <td>13.3</td>\n",
       "      <td>13.3</td>\n",
       "      <td>13.1</td>\n",
       "      <td>93.0</td>\n",
       "      <td>12.2</td>\n",
       "      <td>1.3</td>\n",
       "      <td>2.7</td>\n",
       "      <td>180.0</td>\n",
       "      <td>0.0</td>\n",
       "      <td>0.0</td>\n",
       "      <td>970.3</td>\n",
       "      <td>18.7</td>\n",
       "      <td>64.0</td>\n",
       "      <td>0</td>\n",
       "      <td>0.0</td>\n",
       "    </tr>\n",
       "    <tr>\n",
       "      <th>1</th>\n",
       "      <td>2024-05-14 00:01:00</td>\n",
       "      <td>13.3</td>\n",
       "      <td>13.3</td>\n",
       "      <td>13.1</td>\n",
       "      <td>93.0</td>\n",
       "      <td>12.2</td>\n",
       "      <td>0.4</td>\n",
       "      <td>0.9</td>\n",
       "      <td>90.0</td>\n",
       "      <td>0.0</td>\n",
       "      <td>0.0</td>\n",
       "      <td>970.2</td>\n",
       "      <td>18.7</td>\n",
       "      <td>64.0</td>\n",
       "      <td>0</td>\n",
       "      <td>0.0</td>\n",
       "    </tr>\n",
       "    <tr>\n",
       "      <th>2</th>\n",
       "      <td>2024-05-14 00:02:00</td>\n",
       "      <td>13.3</td>\n",
       "      <td>13.3</td>\n",
       "      <td>13.1</td>\n",
       "      <td>93.0</td>\n",
       "      <td>12.2</td>\n",
       "      <td>0.9</td>\n",
       "      <td>1.8</td>\n",
       "      <td>135.0</td>\n",
       "      <td>0.0</td>\n",
       "      <td>0.0</td>\n",
       "      <td>970.3</td>\n",
       "      <td>18.7</td>\n",
       "      <td>64.0</td>\n",
       "      <td>0</td>\n",
       "      <td>0.0</td>\n",
       "    </tr>\n",
       "    <tr>\n",
       "      <th>3</th>\n",
       "      <td>2024-05-14 00:03:00</td>\n",
       "      <td>13.3</td>\n",
       "      <td>13.3</td>\n",
       "      <td>13.1</td>\n",
       "      <td>93.0</td>\n",
       "      <td>12.2</td>\n",
       "      <td>0.0</td>\n",
       "      <td>0.4</td>\n",
       "      <td>NaN</td>\n",
       "      <td>0.3</td>\n",
       "      <td>0.0</td>\n",
       "      <td>970.3</td>\n",
       "      <td>18.7</td>\n",
       "      <td>64.0</td>\n",
       "      <td>0</td>\n",
       "      <td>0.0</td>\n",
       "    </tr>\n",
       "    <tr>\n",
       "      <th>4</th>\n",
       "      <td>2024-05-14 00:04:00</td>\n",
       "      <td>13.3</td>\n",
       "      <td>13.3</td>\n",
       "      <td>13.1</td>\n",
       "      <td>93.0</td>\n",
       "      <td>12.2</td>\n",
       "      <td>0.4</td>\n",
       "      <td>0.9</td>\n",
       "      <td>112.5</td>\n",
       "      <td>0.0</td>\n",
       "      <td>0.0</td>\n",
       "      <td>970.3</td>\n",
       "      <td>18.7</td>\n",
       "      <td>64.0</td>\n",
       "      <td>0</td>\n",
       "      <td>0.0</td>\n",
       "    </tr>\n",
       "    <tr>\n",
       "      <th>...</th>\n",
       "      <td>...</td>\n",
       "      <td>...</td>\n",
       "      <td>...</td>\n",
       "      <td>...</td>\n",
       "      <td>...</td>\n",
       "      <td>...</td>\n",
       "      <td>...</td>\n",
       "      <td>...</td>\n",
       "      <td>...</td>\n",
       "      <td>...</td>\n",
       "      <td>...</td>\n",
       "      <td>...</td>\n",
       "      <td>...</td>\n",
       "      <td>...</td>\n",
       "      <td>...</td>\n",
       "      <td>...</td>\n",
       "    </tr>\n",
       "    <tr>\n",
       "      <th>1435</th>\n",
       "      <td>2024-05-14 23:55:00</td>\n",
       "      <td>13.0</td>\n",
       "      <td>13.0</td>\n",
       "      <td>12.5</td>\n",
       "      <td>83.0</td>\n",
       "      <td>10.2</td>\n",
       "      <td>0.0</td>\n",
       "      <td>0.0</td>\n",
       "      <td>NaN</td>\n",
       "      <td>0.0</td>\n",
       "      <td>0.0</td>\n",
       "      <td>972.3</td>\n",
       "      <td>18.3</td>\n",
       "      <td>63.0</td>\n",
       "      <td>0</td>\n",
       "      <td>0.0</td>\n",
       "    </tr>\n",
       "    <tr>\n",
       "      <th>1436</th>\n",
       "      <td>2024-05-14 23:56:00</td>\n",
       "      <td>13.1</td>\n",
       "      <td>13.1</td>\n",
       "      <td>12.6</td>\n",
       "      <td>83.0</td>\n",
       "      <td>10.2</td>\n",
       "      <td>0.0</td>\n",
       "      <td>0.0</td>\n",
       "      <td>NaN</td>\n",
       "      <td>0.0</td>\n",
       "      <td>0.0</td>\n",
       "      <td>972.3</td>\n",
       "      <td>18.3</td>\n",
       "      <td>63.0</td>\n",
       "      <td>0</td>\n",
       "      <td>0.0</td>\n",
       "    </tr>\n",
       "    <tr>\n",
       "      <th>1437</th>\n",
       "      <td>2024-05-14 23:57:00</td>\n",
       "      <td>13.1</td>\n",
       "      <td>13.1</td>\n",
       "      <td>12.6</td>\n",
       "      <td>84.0</td>\n",
       "      <td>10.4</td>\n",
       "      <td>0.4</td>\n",
       "      <td>0.9</td>\n",
       "      <td>45.0</td>\n",
       "      <td>0.0</td>\n",
       "      <td>0.0</td>\n",
       "      <td>972.3</td>\n",
       "      <td>18.3</td>\n",
       "      <td>63.0</td>\n",
       "      <td>0</td>\n",
       "      <td>0.0</td>\n",
       "    </tr>\n",
       "    <tr>\n",
       "      <th>1438</th>\n",
       "      <td>2024-05-14 23:58:00</td>\n",
       "      <td>13.1</td>\n",
       "      <td>13.1</td>\n",
       "      <td>12.6</td>\n",
       "      <td>83.0</td>\n",
       "      <td>10.2</td>\n",
       "      <td>0.0</td>\n",
       "      <td>0.9</td>\n",
       "      <td>NaN</td>\n",
       "      <td>0.0</td>\n",
       "      <td>0.0</td>\n",
       "      <td>972.3</td>\n",
       "      <td>18.3</td>\n",
       "      <td>63.0</td>\n",
       "      <td>0</td>\n",
       "      <td>0.0</td>\n",
       "    </tr>\n",
       "    <tr>\n",
       "      <th>1439</th>\n",
       "      <td>2024-05-14 23:59:00</td>\n",
       "      <td>13.1</td>\n",
       "      <td>13.1</td>\n",
       "      <td>12.6</td>\n",
       "      <td>84.0</td>\n",
       "      <td>10.4</td>\n",
       "      <td>0.0</td>\n",
       "      <td>0.0</td>\n",
       "      <td>NaN</td>\n",
       "      <td>0.0</td>\n",
       "      <td>0.0</td>\n",
       "      <td>972.3</td>\n",
       "      <td>18.3</td>\n",
       "      <td>63.0</td>\n",
       "      <td>0</td>\n",
       "      <td>0.0</td>\n",
       "    </tr>\n",
       "  </tbody>\n",
       "</table>\n",
       "<p>1440 rows × 16 columns</p>\n",
       "</div>"
      ],
      "text/plain": [
       "               Timestamp  Temp  Chill  HIndex  Humid  Dewpt  Wind  HiWind  \\\n",
       "0    2024-05-14 00:00:00  13.3   13.3    13.1   93.0   12.2   1.3     2.7   \n",
       "1    2024-05-14 00:01:00  13.3   13.3    13.1   93.0   12.2   0.4     0.9   \n",
       "2    2024-05-14 00:02:00  13.3   13.3    13.1   93.0   12.2   0.9     1.8   \n",
       "3    2024-05-14 00:03:00  13.3   13.3    13.1   93.0   12.2   0.0     0.4   \n",
       "4    2024-05-14 00:04:00  13.3   13.3    13.1   93.0   12.2   0.4     0.9   \n",
       "...                  ...   ...    ...     ...    ...    ...   ...     ...   \n",
       "1435 2024-05-14 23:55:00  13.0   13.0    12.5   83.0   10.2   0.0     0.0   \n",
       "1436 2024-05-14 23:56:00  13.1   13.1    12.6   83.0   10.2   0.0     0.0   \n",
       "1437 2024-05-14 23:57:00  13.1   13.1    12.6   84.0   10.4   0.4     0.9   \n",
       "1438 2024-05-14 23:58:00  13.1   13.1    12.6   83.0   10.2   0.0     0.9   \n",
       "1439 2024-05-14 23:59:00  13.1   13.1    12.6   84.0   10.4   0.0     0.0   \n",
       "\n",
       "      Winddir  Rain  RainRate  Pressure  InsideTemp  InsideHumid  Radiation  \\\n",
       "0       180.0   0.0       0.0     970.3        18.7         64.0          0   \n",
       "1        90.0   0.0       0.0     970.2        18.7         64.0          0   \n",
       "2       135.0   0.0       0.0     970.3        18.7         64.0          0   \n",
       "3         NaN   0.3       0.0     970.3        18.7         64.0          0   \n",
       "4       112.5   0.0       0.0     970.3        18.7         64.0          0   \n",
       "...       ...   ...       ...       ...         ...          ...        ...   \n",
       "1435      NaN   0.0       0.0     972.3        18.3         63.0          0   \n",
       "1436      NaN   0.0       0.0     972.3        18.3         63.0          0   \n",
       "1437     45.0   0.0       0.0     972.3        18.3         63.0          0   \n",
       "1438      NaN   0.0       0.0     972.3        18.3         63.0          0   \n",
       "1439      NaN   0.0       0.0     972.3        18.3         63.0          0   \n",
       "\n",
       "       UV  \n",
       "0     0.0  \n",
       "1     0.0  \n",
       "2     0.0  \n",
       "3     0.0  \n",
       "4     0.0  \n",
       "...   ...  \n",
       "1435  0.0  \n",
       "1436  0.0  \n",
       "1437  0.0  \n",
       "1438  0.0  \n",
       "1439  0.0  \n",
       "\n",
       "[1440 rows x 16 columns]"
      ]
     },
     "execution_count": 16,
     "metadata": {},
     "output_type": "execute_result"
    }
   ],
   "source": [
    "aws_data"
   ]
  },
  {
   "cell_type": "markdown",
   "id": "2781ba71-515d-4452-8fa3-716eea9f9451",
   "metadata": {},
   "source": [
    "### Functions for subsetting WRF file list"
   ]
  },
  {
   "cell_type": "markdown",
   "id": "02e8ebcb-efe8-4383-a72e-2327873f1680",
   "metadata": {},
   "source": [
    "The function `wrfout_time` takes a wrfout file name (as a string) and converts the date and time contained within in to a datetime object."
   ]
  },
  {
   "cell_type": "code",
   "execution_count": 17,
   "id": "53a61580-0679-4c99-b1ab-5435c4a8d866",
   "metadata": {},
   "outputs": [],
   "source": [
    "def wrfout_time(filename):\n",
    "    \"\"\"\n",
    "    Returns a date time object based on wrf file name\n",
    "    \"\"\"\n",
    "    split_count = filename.count('_')\n",
    "    \n",
    "    time = dt.datetime.strptime(filename.split('_',split_count-1)[-1], '%Y-%m-%d_%H:%M:%S')\n",
    "    return time"
   ]
  },
  {
   "cell_type": "markdown",
   "id": "15abf859-cff3-43eb-b3d2-80a7f93081e5",
   "metadata": {},
   "source": [
    "For example:"
   ]
  },
  {
   "cell_type": "code",
   "execution_count": 18,
   "id": "936fe17c-2f86-46ce-accd-e05eba960827",
   "metadata": {},
   "outputs": [
    {
     "data": {
      "text/plain": [
       "datetime.datetime(2024, 5, 14, 15, 0)"
      ]
     },
     "execution_count": 18,
     "metadata": {},
     "output_type": "execute_result"
    }
   ],
   "source": [
    "wrf_file_name = 'wrfout_d02_2024-05-14_15:00:00'\n",
    "wrfout_time(wrf_file_name)"
   ]
  },
  {
   "cell_type": "markdown",
   "id": "310e5050-a63d-47bd-9b98-aaa7564d6661",
   "metadata": {},
   "source": [
    "The function `wrfout_inside_time` will return a boolean dependent on whether a wrfout file represents a time between the two datetime objects `init_time` and `final_time`. \n",
    "\n",
    "We have set these two variables as the first and last valid times in the aws data."
   ]
  },
  {
   "cell_type": "code",
   "execution_count": 19,
   "id": "6ec924a8-8aa1-40f6-8fc5-191a92475a8c",
   "metadata": {},
   "outputs": [],
   "source": [
    "# Get time bounds from Obs data\n",
    "init_time = aws_data.iat[0, 0].to_pydatetime()\n",
    "final_time = aws_data.iat[-1, 0].to_pydatetime()\n",
    "\n",
    "def wrfout_inside_time(filename):\n",
    "    \"\"\" \n",
    "    boolean, Filters wrfout files such that only files valid in a time range\n",
    "    \"\"\"\n",
    "    return init_time <= wrfout_time(filename) and wrfout_time(filename) <= final_time"
   ]
  },
  {
   "cell_type": "markdown",
   "id": "7f4b5e47-1858-4835-bf7b-d9066b44a3e8",
   "metadata": {},
   "source": [
    "For example:"
   ]
  },
  {
   "cell_type": "code",
   "execution_count": 20,
   "id": "93a4a2d9-649f-4fe2-8bda-514167b99a3d",
   "metadata": {},
   "outputs": [
    {
     "data": {
      "text/plain": [
       "(datetime.datetime(2024, 5, 14, 0, 0),\n",
       " datetime.datetime(2024, 5, 14, 23, 59),\n",
       " datetime.datetime(2024, 5, 14, 15, 0))"
      ]
     },
     "execution_count": 20,
     "metadata": {},
     "output_type": "execute_result"
    }
   ],
   "source": [
    "init_time, final_time, wrfout_time(wrf_file_name)"
   ]
  },
  {
   "cell_type": "code",
   "execution_count": 21,
   "id": "a0b47a7b-224d-4c2a-b698-e53360802292",
   "metadata": {},
   "outputs": [
    {
     "data": {
      "text/plain": [
       "True"
      ]
     },
     "execution_count": 21,
     "metadata": {},
     "output_type": "execute_result"
    }
   ],
   "source": [
    "wrfout_inside_time(wrf_file_name)"
   ]
  },
  {
   "cell_type": "markdown",
   "id": "419d328a-ac82-44f1-bd01-2754fab13aeb",
   "metadata": {},
   "source": [
    "\n",
    "### Import WRF data"
   ]
  },
  {
   "cell_type": "markdown",
   "id": "c670606d-5e98-44ef-964d-291f2192ce92",
   "metadata": {},
   "source": [
    "Here we upload the correct wrfouts by filtering using the two function shown above.\n",
    "\n",
    "\n",
    "First we navigate to the desired directory - here `2024051312` is the date and hour of the forecast initiation time."
   ]
  },
  {
   "cell_type": "markdown",
   "id": "1e410a85-f926-45a0-890e-fb3574b58ff7",
   "metadata": {},
   "source": [
    "The wrf forecast run in Coordinated Universal Time (UTC). How will we need to account for this?"
   ]
  },
  {
   "cell_type": "code",
   "execution_count": 22,
   "id": "8a9c63cf-ed21-4076-a96e-eccd7c220b49",
   "metadata": {
    "tags": []
   },
   "outputs": [],
   "source": [
    "path = '/data/shared_data/model/2024051312/'\n",
    "os.chdir(path)"
   ]
  },
  {
   "cell_type": "markdown",
   "id": "d86fedd6-4f86-4257-a421-35c9dd2d2098",
   "metadata": {},
   "source": [
    "We then use the glob module to get all files in that directory that start with the prefix `wrfout_d02` using the wildcard character `*` which is equivalent to any any string that follows our prefix. "
   ]
  },
  {
   "cell_type": "code",
   "execution_count": 23,
   "id": "3cdff8a9-a882-48ff-bca1-d75f984ee1fc",
   "metadata": {
    "tags": []
   },
   "outputs": [
    {
     "data": {
      "text/plain": [
       "['wrfout_d03_2024-05-13_22:00:00',\n",
       " 'wrfout_d03_2024-05-13_23:00:00',\n",
       " 'wrfout_d03_2024-05-14_00:00:00',\n",
       " 'wrfout_d03_2024-05-14_01:00:00',\n",
       " 'wrfout_d03_2024-05-14_02:00:00',\n",
       " 'wrfout_d03_2024-05-14_03:00:00',\n",
       " 'wrfout_d03_2024-05-14_04:00:00',\n",
       " 'wrfout_d03_2024-05-14_05:00:00',\n",
       " 'wrfout_d03_2024-05-14_06:00:00',\n",
       " 'wrfout_d03_2024-05-14_07:00:00',\n",
       " 'wrfout_d03_2024-05-14_08:00:00',\n",
       " 'wrfout_d03_2024-05-14_09:00:00',\n",
       " 'wrfout_d03_2024-05-14_10:00:00',\n",
       " 'wrfout_d03_2024-05-14_11:00:00',\n",
       " 'wrfout_d03_2024-05-14_12:00:00',\n",
       " 'wrfout_d03_2024-05-14_13:00:00',\n",
       " 'wrfout_d03_2024-05-14_14:00:00',\n",
       " 'wrfout_d03_2024-05-14_15:00:00',\n",
       " 'wrfout_d03_2024-05-14_16:00:00',\n",
       " 'wrfout_d03_2024-05-14_17:00:00',\n",
       " 'wrfout_d03_2024-05-14_18:00:00',\n",
       " 'wrfout_d03_2024-05-14_19:00:00',\n",
       " 'wrfout_d03_2024-05-14_20:00:00',\n",
       " 'wrfout_d03_2024-05-14_21:00:00',\n",
       " 'wrfout_d03_2024-05-14_22:00:00',\n",
       " 'wrfout_d03_2024-05-14_23:00:00',\n",
       " 'wrfout_d03_2024-05-15_00:00:00',\n",
       " 'wrfout_d03_2024-05-15_01:00:00',\n",
       " 'wrfout_d03_2024-05-15_02:00:00',\n",
       " 'wrfout_d03_2024-05-15_03:00:00',\n",
       " 'wrfout_d03_2024-05-15_04:00:00',\n",
       " 'wrfout_d03_2024-05-15_05:00:00',\n",
       " 'wrfout_d03_2024-05-15_06:00:00',\n",
       " 'wrfout_d03_2024-05-15_07:00:00',\n",
       " 'wrfout_d03_2024-05-15_08:00:00',\n",
       " 'wrfout_d03_2024-05-15_09:00:00',\n",
       " 'wrfout_d03_2024-05-15_10:00:00',\n",
       " 'wrfout_d03_2024-05-15_11:00:00',\n",
       " 'wrfout_d03_2024-05-15_12:00:00',\n",
       " 'wrfout_d03_2024-05-15_13:00:00',\n",
       " 'wrfout_d03_2024-05-15_14:00:00',\n",
       " 'wrfout_d03_2024-05-15_15:00:00',\n",
       " 'wrfout_d03_2024-05-15_16:00:00',\n",
       " 'wrfout_d03_2024-05-15_17:00:00',\n",
       " 'wrfout_d03_2024-05-15_18:00:00',\n",
       " 'wrfout_d03_2024-05-15_19:00:00',\n",
       " 'wrfout_d03_2024-05-15_20:00:00',\n",
       " 'wrfout_d03_2024-05-15_21:00:00',\n",
       " 'wrfout_d03_2024-05-15_22:00:00',\n",
       " 'wrfout_d03_2024-05-15_23:00:00',\n",
       " 'wrfout_d03_2024-05-16_00:00:00']"
      ]
     },
     "execution_count": 23,
     "metadata": {},
     "output_type": "execute_result"
    }
   ],
   "source": [
    "all_wrfouts = glob.glob('wrfout_d03*')\n",
    "all_wrfouts[10:]"
   ]
  },
  {
   "cell_type": "markdown",
   "id": "8b111411-92c5-4643-95eb-513926576bbb",
   "metadata": {},
   "source": [
    "The filenames are sorted so that they are in and then we filter them using the `wrf_inside_time` function, the read them into a list of `Dataset` objects provided by `netCDF4`"
   ]
  },
  {
   "cell_type": "code",
   "execution_count": 24,
   "id": "dc98a0a8-e1b6-4eec-a997-9aaa8f65fb52",
   "metadata": {
    "tags": []
   },
   "outputs": [],
   "source": [
    "all_wrfouts.sort()\n",
    "intime_wrfouts = [path + filename for filename in list(filter(wrfout_inside_time, all_wrfouts))]\n",
    "\n",
    "datasets = [Dataset(wrfout, 'r') for wrfout in intime_wrfouts]"
   ]
  },
  {
   "cell_type": "markdown",
   "id": "c9ba0a5c-04d1-4bb3-a302-738ea4a1ae3a",
   "metadata": {},
   "source": [
    "### Using wrf-python to load and interpolate our wrf data to the aws location"
   ]
  },
  {
   "cell_type": "markdown",
   "id": "7b486bce-5997-421c-82f1-62c82d6368f4",
   "metadata": {},
   "source": [
    "The `wrf-python` package will be used regularily throughout the course to help us process the WRF model data.\n",
    "\n",
    "We use the function `ll_to_xy` to get the gridpoint coordinates from our latitude longitude coordinates.\n",
    "\n",
    "We do this for two cases, `as_int` both `True`, which is the nearest gridpoint, and as `False` which returns a decimal value i.e. the exact point which is floating between grid points."
   ]
  },
  {
   "cell_type": "code",
   "execution_count": 47,
   "id": "352c50b9-ad44-498a-8820-2926b9f2dc31",
   "metadata": {
    "tags": []
   },
   "outputs": [
    {
     "data": {
      "text/plain": [
       "(<xarray.DataArray 'xy' (x_y: 2)> Size: 16B\n",
       " array([74.0668198 , 50.82114483])\n",
       " Coordinates:\n",
       "     latlon_coord  object 8B CoordPair(lat=54.620538, lon=-3.080279)\n",
       "   * x_y           (x_y) <U1 8B 'x' 'y',\n",
       " <xarray.DataArray 'xy' (x_y: 2)> Size: 16B\n",
       " array([74, 51])\n",
       " Coordinates:\n",
       "     latlon_coord  object 8B CoordPair(lat=54.620538, lon=-3.080279)\n",
       "   * x_y           (x_y) <U1 8B 'x' 'y')"
      ]
     },
     "execution_count": 47,
     "metadata": {},
     "output_type": "execute_result"
    }
   ],
   "source": [
    "from wrf import getvar, ll_to_xy, ALL_TIMES\n",
    "\n",
    "grid_ref_flt = ll_to_xy(datasets[0], 54.620538, -3.080279, as_int=False)\n",
    "grid_ref_int = ll_to_xy(datasets[0], 54.620538, -3.080279, as_int=True)\n",
    "grid_ref_flt, grid_ref_int"
   ]
  },
  {
   "cell_type": "markdown",
   "id": "b24befec-de81-42ef-a2dc-dcaa434c035a",
   "metadata": {},
   "source": [
    "We create an `Interpolator` object, for the float case of the grid reference."
   ]
  },
  {
   "cell_type": "markdown",
   "id": "a9ba1c67-248f-4f9e-b0e1-16710f8aaa8b",
   "metadata": {
    "jp-MarkdownHeadingCollapsed": true,
    "tags": []
   },
   "source": [
    "### what are the implications of using interpolation???"
   ]
  },
  {
   "cell_type": "code",
   "execution_count": 26,
   "id": "9fb0353a-1c7e-42d6-8e08-0bdd96df0d60",
   "metadata": {
    "tags": []
   },
   "outputs": [],
   "source": [
    "interps_flt = Interpolator(grid_ref_flt[1], grid_ref_flt[0])"
   ]
  },
  {
   "cell_type": "markdown",
   "id": "817d2481-61d1-46ab-b56a-8341b75d519f",
   "metadata": {},
   "source": [
    "Now we load the desired variables using the `getvar` function from `wrf-python`: 2m temperature as `T2` (dry bulb) and 2m relative humidity as `rh2`.\n",
    "\n",
    "These quantities are part of the standard set of diagnostics that `wrf-python` let's us access.\n",
    "\n",
    "We can run `getvar` on a list of datasets, and use the `cat` method to create on netcdf object for the variable."
   ]
  },
  {
   "cell_type": "code",
   "execution_count": 27,
   "id": "b9e1ef65-1cb0-4851-ae2d-64111c687327",
   "metadata": {
    "tags": []
   },
   "outputs": [],
   "source": [
    "T2 = getvar(datasets, 'T2', timeidx=None, method='cat')\n",
    "RH = getvar(datasets, 'rh2', timeidx=None, method='cat')"
   ]
  },
  {
   "cell_type": "code",
   "execution_count": 28,
   "id": "8bee74ff-df9f-4066-baa6-d497ff9b2ece",
   "metadata": {},
   "outputs": [
    {
     "data": {
      "text/plain": [
       "array([[[284.654  , 284.668  , 284.68234, ..., 283.73956, 283.71918,\n",
       "         283.6959 ],\n",
       "        [284.65875, 284.67258, 284.68625, ..., 283.7402 , 283.71854,\n",
       "         283.69495],\n",
       "        [284.66327, 284.67715, 284.69006, ..., 283.73758, 283.71625,\n",
       "         283.69357],\n",
       "        ...,\n",
       "        [284.93042, 284.93927, 284.958  , ..., 283.8883 , 283.89764,\n",
       "         283.90808],\n",
       "        [284.88495, 284.90323, 284.92728, ..., 283.90012, 283.90958,\n",
       "         283.9196 ],\n",
       "        [284.85684, 284.89102, 284.9224 , ..., 283.9132 , 283.92267,\n",
       "         283.93204]],\n",
       "\n",
       "       [[284.6008 , 284.61484, 284.62943, ..., 283.51953, 283.4989 ,\n",
       "         283.4778 ],\n",
       "        [284.60803, 284.6215 , 284.6358 , ..., 283.49796, 283.47757,\n",
       "         283.45703],\n",
       "        [284.61588, 284.62894, 284.64294, ..., 283.47513, 283.45624,\n",
       "         283.43713],\n",
       "        ...,\n",
       "        [284.7273 , 284.73456, 284.75598, ..., 283.9205 , 283.92816,\n",
       "         283.93533],\n",
       "        [284.67764, 284.6912 , 284.71457, ..., 283.92862, 283.93445,\n",
       "         283.94006],\n",
       "        [284.6402 , 284.67853, 284.70612, ..., 283.93607, 283.9408 ,\n",
       "         283.94427]],\n",
       "\n",
       "       [[284.60388, 284.61337, 284.6249 , ..., 283.46368, 283.43735,\n",
       "         283.41296],\n",
       "        [284.60464, 284.61435, 284.62576, ..., 283.46085, 283.43655,\n",
       "         283.4119 ],\n",
       "        [284.6066 , 284.61636, 284.6279 , ..., 283.45645, 283.4345 ,\n",
       "         283.4124 ],\n",
       "        ...,\n",
       "        [284.54617, 284.553  , 284.57413, ..., 284.02676, 284.03986,\n",
       "         284.05203],\n",
       "        [284.49872, 284.51294, 284.5389 , ..., 284.02795, 284.04208,\n",
       "         284.05548],\n",
       "        [284.46536, 284.50162, 284.53363, ..., 284.0318 , 284.04633,\n",
       "         284.0598 ]],\n",
       "\n",
       "       ...,\n",
       "\n",
       "       [[285.11172, 285.1176 , 285.12405, ..., 283.86508, 283.79346,\n",
       "         283.7053 ],\n",
       "        [285.11166, 285.11765, 285.12347, ..., 283.84247, 283.75998,\n",
       "         283.66632],\n",
       "        [285.11142, 285.11728, 285.12247, ..., 283.81094, 283.72046,\n",
       "         283.62036],\n",
       "        ...,\n",
       "        [284.37152, 284.34055, 284.3404 , ..., 283.86792, 283.87143,\n",
       "         283.8751 ],\n",
       "        [284.3268 , 284.30368, 284.29626, ..., 283.86893, 283.87057,\n",
       "         283.87164],\n",
       "        [284.29224, 284.3045 , 284.30063, ..., 283.86826, 283.8681 ,\n",
       "         283.86694]],\n",
       "\n",
       "       [[284.83948, 284.85745, 284.87796, ..., 283.6043 , 283.5625 ,\n",
       "         283.51672],\n",
       "        [284.85184, 284.86963, 284.8889 , ..., 283.61618, 283.57263,\n",
       "         283.52716],\n",
       "        [284.86502, 284.88266, 284.90146, ..., 283.62354, 283.58084,\n",
       "         283.53683],\n",
       "        ...,\n",
       "        [284.46622, 284.42294, 284.39764, ..., 283.51492, 283.52472,\n",
       "         283.5353 ],\n",
       "        [284.43103, 284.398  , 284.3726 , ..., 283.51834, 283.5294 ,\n",
       "         283.5406 ],\n",
       "        [284.41153, 284.40466, 284.3721 , ..., 283.52054, 283.53253,\n",
       "         283.54523]],\n",
       "\n",
       "       [[284.92883, 284.93927, 284.94794, ..., 283.79218, 283.7516 ,\n",
       "         283.7102 ],\n",
       "        [284.93365, 284.9439 , 284.9522 , ..., 283.78036, 283.73993,\n",
       "         283.69992],\n",
       "        [284.9382 , 284.9483 , 284.9558 , ..., 283.76514, 283.7268 ,\n",
       "         283.68875],\n",
       "        ...,\n",
       "        [284.14084, 284.14105, 284.14456, ..., 283.56067, 283.56854,\n",
       "         283.57642],\n",
       "        [284.10916, 284.11154, 284.11185, ..., 283.56247, 283.5718 ,\n",
       "         283.58075],\n",
       "        [284.08923, 284.10898, 284.1141 , ..., 283.56702, 283.57703,\n",
       "         283.58627]]], dtype=float32)"
      ]
     },
     "execution_count": 28,
     "metadata": {},
     "output_type": "execute_result"
    }
   ],
   "source": [
    "T2.to_numpy()"
   ]
  },
  {
   "cell_type": "markdown",
   "id": "011919aa-273b-48e9-972f-5eaf2c3d0571",
   "metadata": {},
   "source": [
    "We now interpolate both the `T2` and `RH` data using the float grid reference and slice them using the integer grid reference. Again we use list comprehensions, we can think of this as 'at each timestep, interpolate/slice the two dimensional array to the given xy grid reference'."
   ]
  },
  {
   "cell_type": "code",
   "execution_count": 29,
   "id": "53da5dde-4dcd-4cda-b609-fadd00f99012",
   "metadata": {
    "tags": []
   },
   "outputs": [
    {
     "data": {
      "text/plain": [
       "array([90.49211 , 91.44156 , 93.325096, 92.25721 , 93.40114 , 94.67515 ,\n",
       "       94.01228 , 91.82227 , 93.15455 , 91.95927 , 91.97867 , 91.48236 ,\n",
       "       96.80467 , 96.37114 , 98.37371 , 94.293884, 95.33778 , 93.5442  ,\n",
       "       92.0257  , 89.21542 , 90.92678 , 95.46047 , 88.25713 , 92.29118 ],\n",
       "      dtype=float32)"
      ]
     },
     "execution_count": 29,
     "metadata": {},
     "output_type": "execute_result"
    }
   ],
   "source": [
    "T2_flt = np.array([interps_flt.interp(twodarr) for twodarr in T2.to_numpy()])-273.15\n",
    "T2_int = np.array([twodarr[grid_ref_int[0], grid_ref_int[1]] for twodarr in T2.to_numpy()])-273.15\n",
    "\n",
    "RH_flt = np.array([interps_flt.interp(twodarr) for twodarr in RH.to_numpy()])\n",
    "RH_int = np.array([twodarr[grid_ref_int[0], grid_ref_int[1]] for twodarr in RH.to_numpy()])\n",
    "\n",
    "RH_int"
   ]
  },
  {
   "cell_type": "markdown",
   "id": "aeedb4ff-5e63-4b09-8aff-a7309da6c4c9",
   "metadata": {},
   "source": [
    "Why have we taken `273.15` from the `T2` arrays?"
   ]
  },
  {
   "cell_type": "markdown",
   "id": "52b99473-1ed1-4196-8193-0da46ee81645",
   "metadata": {
    "tags": []
   },
   "source": [
    "### Plotting"
   ]
  },
  {
   "cell_type": "markdown",
   "id": "14ae2112-d594-444d-bc1a-739c4415497b",
   "metadata": {},
   "source": [
    "We will plot our data using a custom class: `VerticalPlotter`, which allows us to created vertically stacked plots with an easy interface.\n",
    "\n",
    "It requires us to create some data structures that represent what we want to plot.\n",
    "\n",
    "At the top level we have an array (correlating to a plot) of dictionaries (corresponding to lines on that plot).\n",
    "\n",
    "Each line dictionary will contain `x` for the x axis data, `y` for the axis data (both of which must be one dimensional arrays of the same size) and optionally a `label` for the legend, a `color`, a `linestyle` and a `marker`. \n",
    "\n",
    "Please see how the examples below..."
   ]
  },
  {
   "cell_type": "code",
   "execution_count": 30,
   "id": "2a6fd082-10de-4f08-96a4-f30e257a1df7",
   "metadata": {},
   "outputs": [],
   "source": [
    "temp_lines_all = [\n",
    "    {\n",
    "        'x': aws_data['Timestamp'].to_numpy().flatten(),\n",
    "        'y': aws_data['Temp'].to_numpy().flatten(),\n",
    "        'label': 'AWS',\n",
    "        'color': 'r',\n",
    "        'linestyle': '-',\n",
    "        'marker': ''\n",
    "    },\n",
    "    {\n",
    "        'x': T2.coords['Time'].to_numpy(),\n",
    "        'y': T2_int,\n",
    "        'label': 'WRF, nearest gridpoint',\n",
    "        'color': 'orange',\n",
    "        'linestyle': '',\n",
    "        'marker': 'o'\n",
    "\n",
    "    },\n",
    "    {\n",
    "        'x': T2.coords['Time'].to_numpy(),\n",
    "        'y': T2_flt,\n",
    "        'label': 'WRF, interpolated',\n",
    "        'color': 'b',\n",
    "        'linestyle': '',\n",
    "        'marker': 'x'\n",
    "\n",
    "    }\n",
    "]\n",
    "\n",
    "rh_lines_all = [\n",
    "    {\n",
    "        'x': aws_data['Timestamp'].to_numpy().flatten(),\n",
    "        'y': aws_data['Humid'].to_numpy().flatten(),\n",
    "        'label': 'AWS',\n",
    "        'color': 'r',\n",
    "        'linestyle': '-',\n",
    "        'marker': ''\n",
    "    },\n",
    "    {\n",
    "        'x': RH.coords['Time'].to_numpy(),\n",
    "        'y': RH_int,\n",
    "        'label': 'WRF, nearest gridpoint',\n",
    "        'color': 'orange',\n",
    "        'linestyle': '',\n",
    "        'marker': 'o'\n",
    "    },\n",
    "    {\n",
    "        'x': RH.coords['Time'].to_numpy(),\n",
    "        'y': RH_flt,\n",
    "        'label': 'WRF, interpolated',\n",
    "        'color': 'b',\n",
    "        'linestyle': '',\n",
    "        'marker': 'x'\n",
    "\n",
    "    }\n",
    "]"
   ]
  },
  {
   "cell_type": "markdown",
   "id": "bd388581-fb13-471f-9d67-0057cf1f29b9",
   "metadata": {},
   "source": [
    "We will now initialise our `VerticalPlotter` object.\n",
    "\n",
    "\n",
    "The arguments here are:\n",
    "    \n",
    "size of each subplot: `(20, 4)`\n",
    "number of subplots: `2`,\n",
    "title: `Blen.`\n",
    "space between the plot: `space_between=0`"
   ]
  },
  {
   "cell_type": "code",
   "execution_count": 44,
   "id": "23587e36-ac1b-4fba-8a05-ed3928a02d79",
   "metadata": {},
   "outputs": [],
   "source": [
    "plot = VerticalPlotter((20, 4), 2,  'WRF vs AWS 14th May', space_between=0)"
   ]
  },
  {
   "cell_type": "markdown",
   "id": "47425642-e1b8-4fe0-8e4b-cd7da6b2009b",
   "metadata": {},
   "source": [
    "Now we call the `add_plot` method for each of our plot arrays above.\n",
    "\n",
    "The second argument is the y axis label."
   ]
  },
  {
   "cell_type": "code",
   "execution_count": 45,
   "id": "f18ca88d-fbe0-4152-bb1f-16623cfaf66e",
   "metadata": {},
   "outputs": [
    {
     "name": "stdout",
     "output_type": "stream",
     "text": [
      "12.543310743971915 15.7\n",
      "11.911972892766299 16.331337851205618\n",
      "88.0 98.37371\n",
      "85.92525787353516 100.44845275878906\n"
     ]
    },
    {
     "data": {
      "image/png": "[encoded data removed]",
      "text/plain": [
       "<Figure size 2000x900 with 4 Axes>"
      ]
     },
     "metadata": {},
     "output_type": "display_data"
    }
   ],
   "source": [
    "plot.add_plot(temp_lines_all, f\"Temperature\\n{units_lookup['Temp']}\", legend=True)\n",
    "plot.add_plot(rh_lines_all, f\"Rel. Hum. \\n{units_lookup['Humid']}\", legend=True)"
   ]
  },
  {
   "cell_type": "markdown",
   "id": "d245ed79-1513-409c-8daf-74ba9ed0b97f",
   "metadata": {},
   "source": [
    "We can also filter the time that we want to explore by introducing a `time_bound`,which must be a tuple of python datetime objects, to the `add_plot` method call.\n",
    "\n",
    "Here is a quick example using the same data, also notice the change to the `space_between` argument to the `VerticalPlotter` initialisation."
   ]
  },
  {
   "cell_type": "code",
   "execution_count": 41,
   "id": "d5811c9e-a1d9-4b97-a553-3d8259170885",
   "metadata": {},
   "outputs": [],
   "source": [
    "plot = VerticalPlotter((20, 4), 2, 'WRF vs AWS 14th May', space_between=0)"
   ]
  },
  {
   "cell_type": "code",
   "execution_count": 42,
   "id": "dc6fcb72-8697-4341-b6ab-a805ec9c1ea4",
   "metadata": {},
   "outputs": [],
   "source": [
    "time_bound = (\n",
    "    dt.datetime(year=2024, month=5, day=14, hour=12),\n",
    "    dt.datetime(year=2024, month=5, day=14, hour=16)\n",
    ")"
   ]
  },
  {
   "cell_type": "code",
   "execution_count": 43,
   "id": "db260391-3a98-43bf-a2f0-053b16f7aa56",
   "metadata": {},
   "outputs": [
    {
     "name": "stdout",
     "output_type": "stream",
     "text": [
      "12.543310743971915 15.7\n",
      "11.911972892766299 16.331337851205618\n",
      "88.0 98.37371\n",
      "85.92525787353516 100.44845275878906\n"
     ]
    },
    {
     "data": {
      "image/png": "[encoded data removed]",
      "text/plain": [
       "<Figure size 2000x900 with 4 Axes>"
      ]
     },
     "metadata": {},
     "output_type": "display_data"
    }
   ],
   "source": [
    "plot.add_plot(temp_lines_all, f\"Temperature\\n{units_lookup['Temp']}\", legend=True, time_bound=time_bound)\n",
    "plot.add_plot(rh_lines_all, f\"Rel. Hum. \\n{units_lookup['Humid']}\", legend=True, time_bound=time_bound)"
   ]
  },
  {
   "cell_type": "code",
   "execution_count": null,
   "id": "eb754f1b-110c-4502-97ed-f43cc901ae21",
   "metadata": {},
   "outputs": [],
   "source": []
  }
 ],
 "metadata": {
  "kernelspec": {
   "display_name": "Python 3 (ipykernel)",
   "language": "python",
   "name": "python3"
  },
  "language_info": {
   "codemirror_mode": {
    "name": "ipython",
    "version": 3
   },
   "file_extension": ".py",
   "mimetype": "text/x-python",
   "name": "python",
   "nbconvert_exporter": "python",
   "pygments_lexer": "ipython3",
   "version": "3.9.13"
  }
 },
 "nbformat": 4,
 "nbformat_minor": 5
}
